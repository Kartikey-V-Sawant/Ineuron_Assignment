{
 "cells": [
  {
   "cell_type": "markdown",
   "id": "efecdf9c-b2cf-49c3-a03a-dc7b66474446",
   "metadata": {},
   "source": [
    "# ASSIGNMENT NO 2"
   ]
  },
  {
   "cell_type": "markdown",
   "id": "eca9e47e-21f1-4dcf-9d1a-36015b4f1996",
   "metadata": {},
   "source": [
    "1. What are the two values of the Boolean data type? How do you write them?\n",
    "- True\n",
    "- False"
   ]
  },
  {
   "cell_type": "code",
   "execution_count": 2,
   "id": "0580aca9-68f8-4290-9d6a-112cd49daa76",
   "metadata": {},
   "outputs": [
    {
     "name": "stdout",
     "output_type": "stream",
     "text": [
      "Boolean Data Type 1 :-  True\n",
      "type of Boolean Data Type 1 (true)  <class 'bool'>\n",
      "Boolean Data Type 2 :-  False\n",
      "type of Boolean Data Type 2 (false)  <class 'bool'>\n"
     ]
    }
   ],
   "source": [
    "true=True\n",
    "print(\"Boolean Data Type 1 :- \",true)\n",
    "print(\"type of Boolean Data Type 1 (true) \",type(true))\n",
    "false=False\n",
    "print(\"Boolean Data Type 2 :- \",false)\n",
    "print(\"type of Boolean Data Type 2 (false) \",type(false))"
   ]
  },
  {
   "cell_type": "markdown",
   "id": "1305a6d9-165c-4b1b-92b3-c84efa785f09",
   "metadata": {},
   "source": [
    "================================================================================================================"
   ]
  },
  {
   "cell_type": "markdown",
   "id": "f392de9a-91cb-4a85-82d8-e104d6227dab",
   "metadata": {},
   "source": [
    "2. What are the three different types of Boolean operators?\n",
    "- and\n",
    "- or\n",
    "- not"
   ]
  },
  {
   "cell_type": "markdown",
   "id": "8799ae30-f943-4ec2-9cb7-919fd8e5b46b",
   "metadata": {},
   "source": [
    "================================================================================================================"
   ]
  },
  {
   "cell_type": "markdown",
   "id": "cccdcdb5-55b2-4519-b1e1-060a66c2006f",
   "metadata": {},
   "source": [
    "3. Make a list of each Boolean operator&#39;s truth tables (i.e. every possible combination of Boolean\n",
    "values for the operator and what it evaluate )."
   ]
  },
  {
   "cell_type": "code",
   "execution_count": 6,
   "id": "ea189bcb-87ee-41d1-95ad-dc1c66e79653",
   "metadata": {},
   "outputs": [
    {
     "name": "stdout",
     "output_type": "stream",
     "text": [
      "True and True is  True\n",
      "True and False is  False\n",
      "False and False is  False\n",
      "False and True False\n",
      "True or True is  True\n",
      "True or False is  True\n",
      "False or False is  False\n",
      "False or True is  True\n",
      "not True is  False\n",
      "not False is  True\n"
     ]
    }
   ],
   "source": [
    "print('True and True is ',True and True)\n",
    "print('True and False is ',True and False)\n",
    "print('False and False is ',False and False)\n",
    "print('False and True',False and True)\n",
    "print('True or True is ',True or True)\n",
    "print('True or False is ',True or False)\n",
    "print('False or False is ',False or False)\n",
    "print('False or True is ',False or True)\n",
    "print('not True is ',not True)\n",
    "print('not False is ',not False)"
   ]
  },
  {
   "cell_type": "markdown",
   "id": "52855009-bad9-4454-9b56-8657c59e35a3",
   "metadata": {},
   "source": [
    "================================================================================================================"
   ]
  },
  {
   "cell_type": "markdown",
   "id": "2772df91-b70d-460c-92aa-2abb6cc0adc3",
   "metadata": {},
   "source": [
    "4. What are the values of the following expressions?\n",
    "- (5>4) and (3==5)\n",
    "- not(5>4)\n",
    "- (5>4) or (3==5)\n",
    "- not((5>4) or (3==5))\n",
    "- (True and True) and (True == False)\n",
    "- (not False) or (not True)"
   ]
  },
  {
   "cell_type": "code",
   "execution_count": 10,
   "id": "969a7244-9927-47c7-b214-1f3d577331a7",
   "metadata": {},
   "outputs": [
    {
     "name": "stdout",
     "output_type": "stream",
     "text": [
      "1. (5>4) and (3==5) is  False\n",
      "2. not(5>4) is  False\n",
      "3. (5>4) or (3==5) is  True\n",
      "4. not((5>4) or (3==5)) is  False\n",
      "5. (True and True) and (True == False) is  False\n",
      "6. (not False) or (not True) is  True\n"
     ]
    }
   ],
   "source": [
    "print('1. (5>4) and (3==5) is ',(5>4) and (3==5))\n",
    "print('2. not(5>4) is ',not(5>4))\n",
    "print('3. (5>4) or (3==5) is ',(5>4) or (3==5))\n",
    "print('4. not((5>4) or (3==5)) is ',not((5>4) or (3==5)))\n",
    "print('5. (True and True) and (True == False) is ',(True and True) and (True == False))\n",
    "print('6. (not False) or (not True) is ',(not False) or (not True))"
   ]
  },
  {
   "cell_type": "markdown",
   "id": "2cdac333-846a-4a1b-ad91-7ee63927b39e",
   "metadata": {},
   "source": [
    "================================================================================================================"
   ]
  },
  {
   "cell_type": "markdown",
   "id": "db6c4fc7-afc2-47ec-afa4-9ee62df0c744",
   "metadata": {},
   "source": [
    "5. What are the six comparison operators?\n",
    "- '==' - Equals to\n",
    "- '!=' - Not Equals to\n",
    "- '<'  - Less Than \n",
    "- '>'  - Greater Than\n",
    "- '<=' - Less Than Equal to\n",
    "- '>=' - Greater Than Equal to"
   ]
  },
  {
   "cell_type": "markdown",
   "id": "ee037bab-7c1e-4bcf-95fb-a729ec138dd6",
   "metadata": {},
   "source": [
    "================================================================================================================"
   ]
  },
  {
   "cell_type": "markdown",
   "id": "beaba554-480e-4292-b687-2dca50eea72e",
   "metadata": {},
   "source": [
    "6. How do you tell the difference between the equal to and assignment operators?Describe a\n",
    "condition and when you would use one.\n",
    "|'=='| '=' |\n",
    "|----|-----|\n",
    "|1. Compares 2 Values and evaluates boolean value.| 1. Stores a Value in a variable |\n",
    "|2. Comparision Operator | 2. Assignment Operator |"
   ]
  },
  {
   "cell_type": "markdown",
   "id": "fda88978-d5bc-4704-b4ff-7fc0644609d8",
   "metadata": {},
   "source": [
    "================================================================================================================"
   ]
  },
  {
   "cell_type": "markdown",
   "id": "190542c0-703a-4567-8de5-08bd055fd4ef",
   "metadata": {},
   "source": [
    "7. Identify the three blocks in this code:\n",
    "- spam = 0\n",
    "- if spam == 10:\n",
    "-     print('eggs')\n",
    "- if spam > 5:\n",
    "-     print('bacon')\n",
    "- else:\n",
    "-     print('ham')\n",
    "-     print('spam';)\n",
    "-     print('spam')"
   ]
  },
  {
   "cell_type": "code",
   "execution_count": 17,
   "id": "7e395dad-885e-4ece-9ea4-d474e47b0f07",
   "metadata": {},
   "outputs": [
    {
     "name": "stdout",
     "output_type": "stream",
     "text": [
      "ham\n",
      "spam\n",
      "spam\n"
     ]
    }
   ],
   "source": [
    "spam = 0\n",
    "if spam == 10: # 1st Block - Prints 'eggs if spam equals to 10'\n",
    "    print('eggs')\n",
    "if spam > 5: # 2nd Block - Prints 'bacon' if spam is greater than 5\n",
    "    print('bacon')\n",
    "else: # 3rd Block - - Prints 'ham' ,'spam' and 'spam'\n",
    "    print('ham')\n",
    "    print('spam')\n",
    "    print('spam')"
   ]
  },
  {
   "cell_type": "markdown",
   "id": "11c1b25d-c3b2-479b-abc8-2adde31805de",
   "metadata": {},
   "source": [
    "================================================================================================================"
   ]
  },
  {
   "cell_type": "markdown",
   "id": "7e30790e-78a1-4a26-9d96-1022abf2beb3",
   "metadata": {},
   "source": [
    "8. Write code that prints Hello if 1 is stored in spam, prints Howdy if 2 is stored in spam, and prints\n",
    "Greetings! if anything else is stored in spam."
   ]
  },
  {
   "cell_type": "code",
   "execution_count": 18,
   "id": "3134421f-f206-492e-bb6e-51578f6e0cb8",
   "metadata": {},
   "outputs": [
    {
     "name": "stdout",
     "output_type": "stream",
     "text": [
      "Greetings!\n"
     ]
    }
   ],
   "source": [
    "if spam == 1:\n",
    "    print('Hello')\n",
    "elif spam == 2:\n",
    "    print('Howdy')\n",
    "else:\n",
    "    print('Greetings!')"
   ]
  },
  {
   "cell_type": "markdown",
   "id": "ba0c48bc-a777-4b39-8417-687fad2b1c3b",
   "metadata": {},
   "source": [
    "================================================================================================================"
   ]
  },
  {
   "cell_type": "markdown",
   "id": "2900dcce-0907-449a-8669-842e72606845",
   "metadata": {},
   "source": [
    "9. If your programme is stuck in an endless loop, what keys you’ll press?\n",
    "- Press CTRL + C"
   ]
  },
  {
   "cell_type": "markdown",
   "id": "31eeef13-9a6f-4502-9873-dabd2cb3e8a5",
   "metadata": {},
   "source": [
    "================================================================================================================"
   ]
  },
  {
   "cell_type": "markdown",
   "id": "1d6d6971-bd82-4861-97f3-d41a9e7f50c0",
   "metadata": {},
   "source": [
    "10. How can you tell the difference between break and continue?\n",
    "| Break | Contine |\n",
    "|-------|---------|\n",
    "|1. It Will stop the entire execution of the loop. | 1. It will only stop the current iteration of the loop. |\n",
    "|2. Break also terminates the remaining iterations.| 2. Continue doesn’t terminate the next iterations; it resumes with the successive iterations.\n",
    "|3. It is used to stop the execution of the loop at a specific condition.| 3. It is used to skip a particular iteration of the loop.|"
   ]
  },
  {
   "cell_type": "markdown",
   "id": "dbe6eb2e-8016-4566-baed-3dd04d493ec9",
   "metadata": {},
   "source": [
    "================================================================================================================"
   ]
  },
  {
   "cell_type": "markdown",
   "id": "c9dd1e11-6d49-404e-8eea-c38a27327f59",
   "metadata": {},
   "source": [
    "11. In a for loop, what is the difference between range(10), range(0, 10), and range(0, 10, 1)?"
   ]
  },
  {
   "cell_type": "code",
   "execution_count": 24,
   "id": "868fbe5a-208a-4b8e-a5a6-2baaeb7c5055",
   "metadata": {},
   "outputs": [
    {
     "name": "stdout",
     "output_type": "stream",
     "text": [
      "0123456789\n",
      "0123456789\n",
      "0123456789\n"
     ]
    }
   ],
   "source": [
    "for i in range(10): # for this loop it will take range till 10.\n",
    "    print(i,end=\"\")\n",
    "print()\n",
    "for i in range(0,10):# for this loop it will take range from 0 to 10. In this loop starting position is given as 0, end position as 10\n",
    "    print(i,end=\"\")\n",
    "print()\n",
    "for i in range(0,10,1): # in this loop start position is 0 end position is 10 and step is 1 where integer will increment by 1.\n",
    "    print(i,end=\"\")\n",
    "print()\n",
    "# For all three for loops output is same. Only different method are used"
   ]
  },
  {
   "cell_type": "markdown",
   "id": "bd58a8cd-9e51-4eac-a694-70ea71393761",
   "metadata": {},
   "source": [
    "================================================================================================================"
   ]
  },
  {
   "cell_type": "markdown",
   "id": "98ccfb8c-cf64-4d37-91f5-4c45ade2b602",
   "metadata": {},
   "source": [
    "12. Write a short program that prints the numbers 1 to 10 using a for loop. Then write an equivalent\n",
    "program that prints the numbers 1 to 10 using a while loop."
   ]
  },
  {
   "cell_type": "code",
   "execution_count": 26,
   "id": "23b9702e-6232-479e-ae38-618abcca6d00",
   "metadata": {},
   "outputs": [
    {
     "name": "stdout",
     "output_type": "stream",
     "text": [
      "1\n",
      "2\n",
      "3\n",
      "4\n",
      "5\n",
      "6\n",
      "7\n",
      "8\n",
      "9\n",
      "10\n"
     ]
    }
   ],
   "source": [
    "#using for loop\n",
    "for i in range(1,11):\n",
    "    print(i)"
   ]
  },
  {
   "cell_type": "code",
   "execution_count": 29,
   "id": "35d10b4a-66bc-4445-9731-fdbed2858fc4",
   "metadata": {},
   "outputs": [
    {
     "name": "stdout",
     "output_type": "stream",
     "text": [
      "0\n",
      "1\n",
      "2\n",
      "3\n",
      "4\n",
      "5\n",
      "6\n",
      "7\n",
      "8\n",
      "9\n",
      "10\n"
     ]
    }
   ],
   "source": [
    "#using while loop\n",
    "x=0\n",
    "while x<=10:\n",
    "    print(x)\n",
    "    x+=1\n",
    "    "
   ]
  },
  {
   "cell_type": "markdown",
   "id": "de455230-d479-4ede-bdeb-73838af978e6",
   "metadata": {},
   "source": [
    "================================================================================================================"
   ]
  },
  {
   "cell_type": "markdown",
   "id": "60a53b9d-0829-46c7-946f-68fe12ed184f",
   "metadata": {},
   "source": [
    "13. If you had a function named bacon() inside a module named spam, how would you call it after\n",
    "importing spam?\n",
    "- spam.bacon()"
   ]
  },
  {
   "cell_type": "markdown",
   "id": "6c781703-d1c6-4dfc-9d07-ab414f8fccda",
   "metadata": {},
   "source": [
    "================================================================================================================"
   ]
  }
 ],
 "metadata": {
  "kernelspec": {
   "display_name": "Python 3 (ipykernel)",
   "language": "python",
   "name": "python3"
  },
  "language_info": {
   "codemirror_mode": {
    "name": "ipython",
    "version": 3
   },
   "file_extension": ".py",
   "mimetype": "text/x-python",
   "name": "python",
   "nbconvert_exporter": "python",
   "pygments_lexer": "ipython3",
   "version": "3.9.12"
  }
 },
 "nbformat": 4,
 "nbformat_minor": 5
}

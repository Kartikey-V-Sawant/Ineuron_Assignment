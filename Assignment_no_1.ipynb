{
 "cells": [
  {
   "cell_type": "markdown",
   "id": "5e0c581e-7e45-47d2-b55a-acdc92c72bf8",
   "metadata": {},
   "source": [
    "# =================ASSIGNMENT NO 1========================="
   ]
  },
  {
   "cell_type": "markdown",
   "id": "56e17de1-00b5-47a1-994d-d734dc8dab4a",
   "metadata": {},
   "source": [
    "1. In the below elements which of them are values or an expression? eg:- values can be\n",
    "integer or string and expressions will be mathematical operators.\n",
    "- *\n",
    "- &#39;hello&#39;\n",
    "- -87.8\n",
    "- -\n",
    "- /\n",
    "- +\n",
    "- 6"
   ]
  },
  {
   "cell_type": "markdown",
   "id": "a4d8d8b6-a8d2-4756-839f-ad7ed8313558",
   "metadata": {},
   "source": [
    "1. '*' = Multiplication Operator\n",
    "2. 'hello'= String\n",
    "3. '-87.8' = Integer\n",
    "4. '-' = Substraction Operator\n",
    "5. '/' = Division Operator\n",
    "6. '+' = Addition Operator\n",
    "7. '6' = Integer"
   ]
  },
  {
   "cell_type": "markdown",
   "id": "7f6200c6-6ba9-4c04-bfe4-d0891cfe01d3",
   "metadata": {},
   "source": [
    "2. What is the difference between string and variable?"
   ]
  },
  {
   "cell_type": "markdown",
   "id": "ba2e5bbe-2d0f-4834-8814-d81e370520fa",
   "metadata": {},
   "source": [
    "|    Variable   |   String   |\n",
    "| -------| ---------|\n",
    "| 1. Variable is used to store an information.| 1. String is a type of information.|\n",
    "|2. A variable can hold a string, but a string can't hold a variable.|2. A string is the values inside the quotes assigned to a string.|\n",
    "|3. eg. x=\"String\" - where x is a variable of a string type.|3. eg. x=\"String\" - where \"String\" is variable.|"
   ]
  },
  {
   "cell_type": "markdown",
   "id": "2af0919d-119a-4f5d-acfc-aab803c64bad",
   "metadata": {},
   "source": [
    "3. Describe three different data types."
   ]
  },
  {
   "cell_type": "markdown",
   "id": "081d1ab8-0efd-4095-9ad5-9ab4bfa91f89",
   "metadata": {},
   "source": [
    "# '************************************************************'"
   ]
  },
  {
   "cell_type": "markdown",
   "id": "bee3e82a-04ed-46bf-840b-99dff8bac1f8",
   "metadata": {},
   "source": [
    "1. Integers :-  integers are whole numbers without a fractional part. e.g. 0, 40, -40. The followings are valid integer literals in Python. "
   ]
  },
  {
   "cell_type": "code",
   "execution_count": 5,
   "id": "41fc9d5f-743f-40f6-a236-f023a1c17908",
   "metadata": {},
   "outputs": [
    {
     "name": "stdout",
     "output_type": "stream",
     "text": [
      "type of 0 is  <class 'int'>\n",
      "type of 40 is  <class 'int'>\n",
      "type of -40 is  <class 'int'>\n"
     ]
    }
   ],
   "source": [
    "x=0\n",
    "print(\"type of 0 is \", type(x))\n",
    "x=40\n",
    "print(\"type of 40 is \", type(x))\n",
    "x=-40\n",
    "print(\"type of -40 is \", type(x))"
   ]
  },
  {
   "cell_type": "markdown",
   "id": "11f9ad7c-bfe4-4145-ba89-23cf3ca13d22",
   "metadata": {},
   "source": [
    "# '************************************************************'"
   ]
  },
  {
   "cell_type": "markdown",
   "id": "ea4d78b1-5e7c-46b1-9dda-5209841a0e3f",
   "metadata": {},
   "source": [
    "2. String :- String is an immutable sequence data type. It is the sequence of Unicode characters wrapped inside single, double, or triple quotes. The followings are valid string literals in Python.\n",
    "- 'This is a string in Python' # string in single quotes\n",
    "- \"This is a string in Python\" # string in double quotes\n",
    "- '''This is a string in Python''' # string in triple quotes\n",
    "- \"\"\"This is a string in Python\"\"\" # string in triple double-quotes"
   ]
  },
  {
   "cell_type": "markdown",
   "id": "39d2b15b-f2bb-4380-aaed-00afb6c05cfc",
   "metadata": {},
   "source": [
    "# '************************************************************'"
   ]
  },
  {
   "cell_type": "markdown",
   "id": "321e253a-68d3-4747-94ea-406f42f0f4c3",
   "metadata": {},
   "source": [
    "3. floating point numbers (float) are positive and negative real numbers with a fractional part denoted by the decimal symbol . or the scientific notation E or e, e.g. 4.5."
   ]
  },
  {
   "cell_type": "code",
   "execution_count": 7,
   "id": "18f0edcc-bde8-4084-aa6c-e68206931c9f",
   "metadata": {},
   "outputs": [
    {
     "name": "stdout",
     "output_type": "stream",
     "text": [
      "<class 'float'>\n"
     ]
    }
   ],
   "source": [
    "f=4.5\n",
    "print(type(f))"
   ]
  },
  {
   "cell_type": "markdown",
   "id": "580d4d8d-200c-4bb7-970b-bb57b0f2736d",
   "metadata": {},
   "source": [
    "# '************************************************************'"
   ]
  },
  {
   "cell_type": "markdown",
   "id": "36be9e6b-24ab-48de-a988-2d1b1d30a32e",
   "metadata": {},
   "source": [
    "4. What is an expression made up of? What do all expressions do?"
   ]
  },
  {
   "cell_type": "markdown",
   "id": "af99428e-91a7-4204-a529-5b7b5b176960",
   "metadata": {},
   "source": [
    "- Expression is operations done on strings or numbers.\n",
    "- Operations can be addition, multiplication, division, concatenation of strings.\n",
    "- So the operators decides what operations are to be done.\n",
    "- if there is more than one operator in an expression, their precedence decides which operation will be performed first"
   ]
  },
  {
   "cell_type": "markdown",
   "id": "02e60faa-9872-412b-a704-774398016e8b",
   "metadata": {},
   "source": [
    "# '************************************************************'"
   ]
  },
  {
   "cell_type": "markdown",
   "id": "e7ec45be-3c90-42f3-952a-8963fed66b05",
   "metadata": {},
   "source": [
    "5. This assignment statements, like spam = 10. What is the difference between an\n",
    "expression and a statement?"
   ]
  },
  {
   "cell_type": "code",
   "execution_count": 8,
   "id": "a9a6195a-3e32-4873-a51a-8804b20ef8ca",
   "metadata": {},
   "outputs": [
    {
     "name": "stdout",
     "output_type": "stream",
     "text": [
      "10\n"
     ]
    }
   ],
   "source": [
    "spam=10\n",
    "print(spam)"
   ]
  },
  {
   "cell_type": "markdown",
   "id": "03a50a29-ec3b-4552-9fc9-51f96c8be42e",
   "metadata": {},
   "source": [
    "- Spam =10 - This is an assigment statement where it spam variable is holding integer value of 10."
   ]
  },
  {
   "cell_type": "markdown",
   "id": "65acfbcd-9b04-4e24-9bea-0946a2602036",
   "metadata": {},
   "source": [
    "- Difference between Expression and Statement.\n",
    "|    Expression   |   Statement   |\n",
    "| -------| ---------|\n",
    "| 1. Expression always evaluates to a value.| 1. A statement is used for creating a variable or displaying a value.|\n",
    "|2. The evaluation of a statement does not changes state.|2. The execution of a statement changes state.|\n",
    "|3. Every expression can’t be a statement.|3. Every statement can be an expression.|\n",
    "|4. a + 16.|4. x = 3|"
   ]
  },
  {
   "cell_type": "markdown",
   "id": "a4c9d627-83b9-479e-af2a-841a81d2de4f",
   "metadata": {},
   "source": [
    "# '************************************************************'"
   ]
  },
  {
   "cell_type": "markdown",
   "id": "08286b2a-0bd1-4806-926b-53c00a26d2d2",
   "metadata": {},
   "source": [
    "6. After running the following code, what does the variable bacon contain?\n",
    "- bacon = 22\n",
    "- bacon + 1"
   ]
  },
  {
   "cell_type": "code",
   "execution_count": 11,
   "id": "f95537f4-0111-440e-8e74-a3f3e26be1fc",
   "metadata": {},
   "outputs": [
    {
     "name": "stdout",
     "output_type": "stream",
     "text": [
      "23\n",
      "22\n"
     ]
    }
   ],
   "source": [
    "bacon =22\n",
    "print(bacon+1) # adds 1 to bacon\n",
    "print(bacon) # Prints value of bacon"
   ]
  },
  {
   "cell_type": "markdown",
   "id": "b931fef8-3421-402f-a2df-072d64e5997e",
   "metadata": {},
   "source": [
    "- So, now value of bacon is equal to 22. As when we perform bacon + 1 it is not assigned to bacon or to any other variable. So bacon value remains the same."
   ]
  },
  {
   "cell_type": "markdown",
   "id": "1c01c0f4-c377-49ac-afba-fa1a8d4c06b6",
   "metadata": {},
   "source": [
    "# '************************************************************'"
   ]
  },
  {
   "cell_type": "markdown",
   "id": "5698623e-7f18-49ff-a502-5a47f81fbd5c",
   "metadata": {},
   "source": [
    "7. What should the values of the following two terms be?\n",
    "- 'spam'+'spamspam'\n",
    "- 'spam'*3"
   ]
  },
  {
   "cell_type": "code",
   "execution_count": 12,
   "id": "e03acac4-8001-4756-b87e-a69925a92030",
   "metadata": {},
   "outputs": [
    {
     "name": "stdout",
     "output_type": "stream",
     "text": [
      "spamspamspam\n",
      "spamspamspam\n"
     ]
    }
   ],
   "source": [
    "print('spam'+'spamspam')\n",
    "print('spam'*3)"
   ]
  },
  {
   "cell_type": "markdown",
   "id": "eb858adc-8d9b-4e78-9733-8127ab29cc84",
   "metadata": {},
   "source": [
    "# '************************************************************'"
   ]
  },
  {
   "cell_type": "markdown",
   "id": "9fc70616-851d-4aea-bcea-5f167d9a5066",
   "metadata": {},
   "source": [
    "8. Why is eggs a valid variable name while 100 is invalid?\n",
    "- Variable name should not start with a number."
   ]
  },
  {
   "cell_type": "markdown",
   "id": "f84d4387-cd34-46e0-bc1d-1a9b77f8ae40",
   "metadata": {},
   "source": [
    "# '************************************************************'"
   ]
  },
  {
   "cell_type": "markdown",
   "id": "82d21cdd-a2aa-41c5-9c7a-945a11c3d658",
   "metadata": {},
   "source": [
    "9. What three functions can be used to get the integer, floating-point number, or string version of a value?\n",
    "- int()\n",
    "- float()\n",
    "- str()"
   ]
  },
  {
   "cell_type": "markdown",
   "id": "00bc3430-0fbe-4339-b944-d14660652ba1",
   "metadata": {},
   "source": [
    "# '************************************************************'"
   ]
  },
  {
   "cell_type": "markdown",
   "id": "90c3a257-c5aa-433c-a005-fd31de610033",
   "metadata": {},
   "source": [
    "10. Why does this expression cause an error? How can you fix it?\n",
    "- 'I have eaten' +99+'burritos'"
   ]
  },
  {
   "cell_type": "code",
   "execution_count": 16,
   "id": "1d1d1b07-875d-4b43-bd7a-6b5367b8a5f5",
   "metadata": {},
   "outputs": [
    {
     "data": {
      "text/plain": [
       "'I have eaten 99 burritos'"
      ]
     },
     "execution_count": 16,
     "metadata": {},
     "output_type": "execute_result"
    }
   ],
   "source": [
    "'I have eaten ' +str(99)+' burritos'"
   ]
  },
  {
   "cell_type": "markdown",
   "id": "2596b9f3-bc3e-425d-a44c-83f6053aaa26",
   "metadata": {},
   "source": [
    "# '************************************************************'"
   ]
  }
 ],
 "metadata": {
  "kernelspec": {
   "display_name": "Python 3 (ipykernel)",
   "language": "python",
   "name": "python3"
  },
  "language_info": {
   "codemirror_mode": {
    "name": "ipython",
    "version": 3
   },
   "file_extension": ".py",
   "mimetype": "text/x-python",
   "name": "python",
   "nbconvert_exporter": "python",
   "pygments_lexer": "ipython3",
   "version": "3.9.12"
  }
 },
 "nbformat": 4,
 "nbformat_minor": 5
}

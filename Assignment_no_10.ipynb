{
 "cells": [
  {
   "cell_type": "markdown",
   "id": "d808dfc3-9b88-47e4-886b-db5c11ce1757",
   "metadata": {},
   "source": [
    "# Assignment No 10."
   ]
  },
  {
   "cell_type": "markdown",
   "id": "28c983ac-dd54-46a1-bd6a-fbb849f52064",
   "metadata": {},
   "source": [
    "1. How do you distinguish between shutil.copy() and shutil.copytree()?\n",
    "- shutil.copy() - will copy a single file\n",
    "- shutil.copytree() will copy an entire folder, along with all its contents."
   ]
  },
  {
   "cell_type": "markdown",
   "id": "484909fc-7cd0-4b1a-ab1e-4a0215ed1169",
   "metadata": {},
   "source": [
    "2. What function is used to rename files??\n",
    "- shutil.move()"
   ]
  },
  {
   "cell_type": "markdown",
   "id": "c8dbbe64-1bcf-4060-84e7-ae51f18b1533",
   "metadata": {},
   "source": [
    "3. What is the difference between the delete functions in the send2trash and shutil modules?\n",
    "- send2trash functions will move a file or folder to the recycle bin\n",
    "- shutil functions will permanently delete files and folders."
   ]
  },
  {
   "cell_type": "markdown",
   "id": "ab0d1663-52b8-43e2-978b-f52c5d021190",
   "metadata": {},
   "source": [
    "4.ZipFile objects have a close() method just like File objects’ close() method. What ZipFile method is\n",
    "equivalent to File objects’ open() method?\n",
    "- zipfile.ZipFile() function is equivalent to the open() function\n",
    "- the first argument is the filename, and the second argument is the mode to open the ZIP file in (read, write, or append)."
   ]
  },
  {
   "cell_type": "markdown",
   "id": "8e0f1456-e89d-47ad-9cde-04bf0b9c9646",
   "metadata": {},
   "source": [
    "5. Create a programme that searches a folder tree for files with a certain file extension (such as .pdf\n",
    "or .jpg). Copy these files from whatever location they are in to a new folder."
   ]
  },
  {
   "cell_type": "code",
   "execution_count": 14,
   "id": "ff5823a9-61d3-4e4e-83c5-947c792109a4",
   "metadata": {},
   "outputs": [
    {
     "name": "stdout",
     "output_type": "stream",
     "text": [
      "Searching in  D:\\INEURON for files with extensions of .jpg, .pdf, .ipynb\n",
      "Coping D:\\INEURON\\PYTHON\\PYTHON_ASSIGNMENTS\\ASSIGNMENT_NO_1\\Assignment_no_1.ipynb to D:\\INEURON\\PYTHON\\PYTHON_ASSIGNMENTS\\ASSIGNMENT_NO_10\\PHYTHON\n",
      "Coping D:\\INEURON\\PYTHON\\PYTHON_ASSIGNMENTS\\ASSIGNMENT_NO_1\\.ipynb_checkpoints\\Assignment_no_1-checkpoint.ipynb to D:\\INEURON\\PYTHON\\PYTHON_ASSIGNMENTS\\ASSIGNMENT_NO_10\\PHYTHON\n",
      "Coping D:\\INEURON\\PYTHON\\PYTHON_ASSIGNMENTS\\ASSIGNMENT_NO_10\\Assignment_no_10.ipynb to D:\\INEURON\\PYTHON\\PYTHON_ASSIGNMENTS\\ASSIGNMENT_NO_10\\PHYTHON\n",
      "Coping D:\\INEURON\\PYTHON\\PYTHON_ASSIGNMENTS\\ASSIGNMENT_NO_10\\.ipynb_checkpoints\\Assignment_no_10-checkpoint.ipynb to D:\\INEURON\\PYTHON\\PYTHON_ASSIGNMENTS\\ASSIGNMENT_NO_10\\PHYTHON\n",
      "Coping D:\\INEURON\\PYTHON\\PYTHON_ASSIGNMENTS\\ASSIGNMENT_NO_2\\Assignment_No_2.ipynb to D:\\INEURON\\PYTHON\\PYTHON_ASSIGNMENTS\\ASSIGNMENT_NO_10\\PHYTHON\n",
      "Coping D:\\INEURON\\PYTHON\\PYTHON_ASSIGNMENTS\\ASSIGNMENT_NO_2\\.ipynb_checkpoints\\Assignment_No_2-checkpoint.ipynb to D:\\INEURON\\PYTHON\\PYTHON_ASSIGNMENTS\\ASSIGNMENT_NO_10\\PHYTHON\n",
      "Coping D:\\INEURON\\PYTHON\\PYTHON_ASSIGNMENTS\\ASSIGNMENT_NO_3\\Assignment_no_3.ipynb to D:\\INEURON\\PYTHON\\PYTHON_ASSIGNMENTS\\ASSIGNMENT_NO_10\\PHYTHON\n",
      "Coping D:\\INEURON\\PYTHON\\PYTHON_ASSIGNMENTS\\ASSIGNMENT_NO_3\\.ipynb_checkpoints\\ASSIGNMENT_NO_3-checkpoint.ipynb to D:\\INEURON\\PYTHON\\PYTHON_ASSIGNMENTS\\ASSIGNMENT_NO_10\\PHYTHON\n",
      "Coping D:\\INEURON\\PYTHON\\PYTHON_ASSIGNMENTS\\ASSIGNMENT_NO_4\\Assignment_no_4.ipynb to D:\\INEURON\\PYTHON\\PYTHON_ASSIGNMENTS\\ASSIGNMENT_NO_10\\PHYTHON\n",
      "Coping D:\\INEURON\\PYTHON\\PYTHON_ASSIGNMENTS\\ASSIGNMENT_NO_4\\.ipynb_checkpoints\\Assignment_no_4-checkpoint.ipynb to D:\\INEURON\\PYTHON\\PYTHON_ASSIGNMENTS\\ASSIGNMENT_NO_10\\PHYTHON\n",
      "Coping D:\\INEURON\\PYTHON\\PYTHON_ASSIGNMENTS\\ASSIGNMENT_NO_5\\Assignment_no_5.ipynb to D:\\INEURON\\PYTHON\\PYTHON_ASSIGNMENTS\\ASSIGNMENT_NO_10\\PHYTHON\n",
      "Coping D:\\INEURON\\PYTHON\\PYTHON_ASSIGNMENTS\\ASSIGNMENT_NO_5\\.ipynb_checkpoints\\Assignment_no_5-checkpoint.ipynb to D:\\INEURON\\PYTHON\\PYTHON_ASSIGNMENTS\\ASSIGNMENT_NO_10\\PHYTHON\n",
      "Coping D:\\INEURON\\PYTHON\\PYTHON_ASSIGNMENTS\\ASSIGNMENT_NO_6\\Assignment_no_6.ipynb to D:\\INEURON\\PYTHON\\PYTHON_ASSIGNMENTS\\ASSIGNMENT_NO_10\\PHYTHON\n",
      "Coping D:\\INEURON\\PYTHON\\PYTHON_ASSIGNMENTS\\ASSIGNMENT_NO_6\\.ipynb_checkpoints\\Assignment_no_6-checkpoint.ipynb to D:\\INEURON\\PYTHON\\PYTHON_ASSIGNMENTS\\ASSIGNMENT_NO_10\\PHYTHON\n",
      "Coping D:\\INEURON\\PYTHON\\PYTHON_ASSIGNMENTS\\ASSIGNMENT_NO_7\\Assignment_no_7.ipynb to D:\\INEURON\\PYTHON\\PYTHON_ASSIGNMENTS\\ASSIGNMENT_NO_10\\PHYTHON\n",
      "Coping D:\\INEURON\\PYTHON\\PYTHON_ASSIGNMENTS\\ASSIGNMENT_NO_7\\.ipynb_checkpoints\\Assignment_no_7-checkpoint.ipynb to D:\\INEURON\\PYTHON\\PYTHON_ASSIGNMENTS\\ASSIGNMENT_NO_10\\PHYTHON\n",
      "Coping D:\\INEURON\\PYTHON\\PYTHON_ASSIGNMENTS\\ASSIGNMENT_NO_8\\Assignment_no_8.ipynb to D:\\INEURON\\PYTHON\\PYTHON_ASSIGNMENTS\\ASSIGNMENT_NO_10\\PHYTHON\n",
      "Coping D:\\INEURON\\PYTHON\\PYTHON_ASSIGNMENTS\\ASSIGNMENT_NO_8\\.ipynb_checkpoints\\Assignment_no_8-checkpoint.ipynb to D:\\INEURON\\PYTHON\\PYTHON_ASSIGNMENTS\\ASSIGNMENT_NO_10\\PHYTHON\n",
      "Coping D:\\INEURON\\PYTHON\\PYTHON_ASSIGNMENTS\\ASSIGNMENT_NO_9\\Assigment_no_9.ipynb to D:\\INEURON\\PYTHON\\PYTHON_ASSIGNMENTS\\ASSIGNMENT_NO_10\\PHYTHON\n",
      "Coping D:\\INEURON\\PYTHON\\PYTHON_ASSIGNMENTS\\ASSIGNMENT_NO_9\\Assignment_no_9.ipynb to D:\\INEURON\\PYTHON\\PYTHON_ASSIGNMENTS\\ASSIGNMENT_NO_10\\PHYTHON\n",
      "Coping D:\\INEURON\\PYTHON\\PYTHON_ASSIGNMENTS\\ASSIGNMENT_NO_9\\.ipynb_checkpoints\\Assigment_no_9-checkpoint.ipynb to D:\\INEURON\\PYTHON\\PYTHON_ASSIGNMENTS\\ASSIGNMENT_NO_10\\PHYTHON\n",
      "Coping D:\\INEURON\\PYTHON\\PYTHON_PRACTICES\\DAY 1\\python_basics.ipynb to D:\\INEURON\\PYTHON\\PYTHON_ASSIGNMENTS\\ASSIGNMENT_NO_10\\PHYTHON\n",
      "Coping D:\\INEURON\\PYTHON\\PYTHON_PRACTICES\\DAY 1\\.ipynb_checkpoints\\Untitled-checkpoint.ipynb to D:\\INEURON\\PYTHON\\PYTHON_ASSIGNMENTS\\ASSIGNMENT_NO_10\\PHYTHON\n",
      "Coping D:\\INEURON\\PYTHON\\PYTHON_PRACTICES\\DAY 2\\Untitled.ipynb to D:\\INEURON\\PYTHON\\PYTHON_ASSIGNMENTS\\ASSIGNMENT_NO_10\\PHYTHON\n",
      "Coping D:\\INEURON\\PYTHON\\PYTHON_PRACTICES\\DAY 2\\Untitled1.ipynb to D:\\INEURON\\PYTHON\\PYTHON_ASSIGNMENTS\\ASSIGNMENT_NO_10\\PHYTHON\n",
      "Coping D:\\INEURON\\PYTHON\\PYTHON_PRACTICES\\DAY 2\\.ipynb_checkpoints\\Untitled-checkpoint.ipynb to D:\\INEURON\\PYTHON\\PYTHON_ASSIGNMENTS\\ASSIGNMENT_NO_10\\PHYTHON\n",
      "Coping D:\\INEURON\\PYTHON\\PYTHON_PRACTICES\\DAY 2\\.ipynb_checkpoints\\Untitled1-checkpoint.ipynb to D:\\INEURON\\PYTHON\\PYTHON_ASSIGNMENTS\\ASSIGNMENT_NO_10\\PHYTHON\n",
      "Coping D:\\INEURON\\PYTHON\\PYTHON_PRACTICES\\DAY 3\\Untitled.ipynb to D:\\INEURON\\PYTHON\\PYTHON_ASSIGNMENTS\\ASSIGNMENT_NO_10\\PHYTHON\n",
      "Coping D:\\INEURON\\PYTHON\\PYTHON_PRACTICES\\DAY 3\\.ipynb_checkpoints\\Untitled-checkpoint.ipynb to D:\\INEURON\\PYTHON\\PYTHON_ASSIGNMENTS\\ASSIGNMENT_NO_10\\PHYTHON\n",
      "Coping D:\\INEURON\\PYTHON\\PYTHON_PRACTICES\\DAY 4\\Untitled.ipynb to D:\\INEURON\\PYTHON\\PYTHON_ASSIGNMENTS\\ASSIGNMENT_NO_10\\PHYTHON\n",
      "Coping D:\\INEURON\\PYTHON\\PYTHON_PRACTICES\\DAY 4\\.ipynb_checkpoints\\Untitled-checkpoint.ipynb to D:\\INEURON\\PYTHON\\PYTHON_ASSIGNMENTS\\ASSIGNMENT_NO_10\\PHYTHON\n",
      "Coping D:\\INEURON\\PYTHON\\PYTHON_PRACTICES\\DAY 5\\Untitled.ipynb to D:\\INEURON\\PYTHON\\PYTHON_ASSIGNMENTS\\ASSIGNMENT_NO_10\\PHYTHON\n",
      "Coping D:\\INEURON\\PYTHON\\PYTHON_PRACTICES\\DAY 5\\.ipynb_checkpoints\\Untitled-checkpoint.ipynb to D:\\INEURON\\PYTHON\\PYTHON_ASSIGNMENTS\\ASSIGNMENT_NO_10\\PHYTHON\n",
      "Coping D:\\INEURON\\PYTHON\\PYTHON_PRACTICES\\DAY 6\\Untitled.ipynb to D:\\INEURON\\PYTHON\\PYTHON_ASSIGNMENTS\\ASSIGNMENT_NO_10\\PHYTHON\n",
      "Coping D:\\INEURON\\PYTHON\\PYTHON_PRACTICES\\DAY 6\\.ipynb_checkpoints\\Untitled-checkpoint.ipynb to D:\\INEURON\\PYTHON\\PYTHON_ASSIGNMENTS\\ASSIGNMENT_NO_10\\PHYTHON\n"
     ]
    }
   ],
   "source": [
    "import os, shutil\n",
    "\n",
    "def selectiveCopy(folder, extensions, dest_Folder):\n",
    "    folder = os.path.dirname(folder) # folder from where we have to search for folder tree\n",
    "    dest_Folder = os.path.abspath(dest_Folder) # destination folder\n",
    "    print('Searching in ', folder, 'for files with extensions of', ', '.join(extensions))\n",
    "    for foldername, subfolders, filenames in os.walk(folder): #loop for searching in folder tree\n",
    "        for filename in filenames: #takes 1 file at a time.\n",
    "            name, extension = os.path.splitext(filename) #splits the file\n",
    "            if extension in extensions: # checks if file is satisfying the extensions list.\n",
    "                fileAbsPath = foldername + os.path.sep + filename \n",
    "                print('Coping', fileAbsPath, 'to', dest_Folder)\n",
    "                shutil.copy(fileAbsPath, dest_Folder) #copies the file from one path to another.\n",
    "\n",
    "extensions = ['.jpg', '.pdf','.ipynb']\n",
    "folder = 'D:\\INEURON\\PYTHON'\n",
    "dest_Folder = 'PHYTHON'\n",
    "selectiveCopy(folder, extensions, dest_Folder)"
   ]
  },
  {
   "cell_type": "code",
   "execution_count": null,
   "id": "023751bd-aaaf-4264-9e1a-86a9671a3974",
   "metadata": {},
   "outputs": [],
   "source": []
  }
 ],
 "metadata": {
  "kernelspec": {
   "display_name": "Python 3 (ipykernel)",
   "language": "python",
   "name": "python3"
  },
  "language_info": {
   "codemirror_mode": {
    "name": "ipython",
    "version": 3
   },
   "file_extension": ".py",
   "mimetype": "text/x-python",
   "name": "python",
   "nbconvert_exporter": "python",
   "pygments_lexer": "ipython3",
   "version": "3.9.12"
  }
 },
 "nbformat": 4,
 "nbformat_minor": 5
}

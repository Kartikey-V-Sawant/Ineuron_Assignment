{
 "cells": [
  {
   "cell_type": "markdown",
   "id": "98a557a0-4473-4f84-80c5-3c5ab4e04eb1",
   "metadata": {},
   "source": [
    "# Assignment No 11"
   ]
  },
  {
   "cell_type": "markdown",
   "id": "c804272b-555b-4463-b3e3-ad16ed828077",
   "metadata": {},
   "source": [
    "1. Create an assert statement that throws an AssertionError if the variable spam is a negative\n",
    "integer.\n",
    "- assert spam > 0, 'The spam variable is negative'"
   ]
  },
  {
   "cell_type": "markdown",
   "id": "4540383c-0f48-46b3-9e17-663c369056e3",
   "metadata": {},
   "source": [
    "2. Write an assert statement that triggers an AssertionError if the variables eggs and bacon contain\n",
    "strings that are the same as each other, even if their cases are different (that is, 'hello' and 'hello' are\n",
    "considered the same, and 'goodbye' and 'GOODbye' are also considered the same).\n",
    "- assert eggs.lower() != bacon.lower(), 'The eggs and bacon variables are the same!' or assert eggs.upper() != bacon.upper(), 'The eggs and bacon variables are the same!'"
   ]
  },
  {
   "cell_type": "markdown",
   "id": "769e40a1-088c-4f8f-9cbf-1200b8d784b3",
   "metadata": {},
   "source": [
    "3. Create an assert statement that throws an AssertionError every time.\n",
    "- assert False, 'This assertion will be thrown every time.'"
   ]
  },
  {
   "cell_type": "markdown",
   "id": "ce877cc5-8841-4960-b733-3106ac0ef8dd",
   "metadata": {},
   "source": [
    "4. What are the two lines that must be present in your software in order to call logging.debug()?\n",
    "- import logging\n",
    "- logging.basicConfig(level=logging.DEBUG, format=' %(asctime)s -%(levelname)s - %(message)s')"
   ]
  },
  {
   "cell_type": "markdown",
   "id": "dc3c3a8c-ab68-45eb-9d99-008026886810",
   "metadata": {},
   "source": [
    "5. What are the two lines that your program must have in order to have logging.debug() send a\n",
    "logging message to a file named programLog.txt?\n",
    "- import logging\n",
    "- logging.basicConfig(filename='programLog.txt', level=logging.DEBUG,format=' %(asctime)s - %(levelname)s - %(message)s')"
   ]
  },
  {
   "cell_type": "markdown",
   "id": "fec05c0a-2a7a-40d8-87c4-2463ba3ed348",
   "metadata": {},
   "source": [
    "6. What are the five levels of logging?\n",
    "- DEBUG\n",
    "- INFO\n",
    "- WARNING\n",
    "- ERROR\n",
    "- CRITICAL"
   ]
  },
  {
   "cell_type": "markdown",
   "id": "1b10499f-2c53-45fc-9960-7a85c21315ac",
   "metadata": {},
   "source": [
    "7. What line of code would you add to your software to disable all logging messages?\n",
    "- logging.disable(logging.CRITICAL)"
   ]
  },
  {
   "cell_type": "markdown",
   "id": "10a31f1a-4dc0-4f8b-8b84-bc5e9ce877ea",
   "metadata": {},
   "source": [
    "8. Why is using logging messages better than using print() to display the same message?\n",
    "- You can disable logging messages without removing the logging function calls. You can selectively disable lower-level logging messages. You can create logging messages. Logging messages provides a timestamp."
   ]
  },
  {
   "cell_type": "markdown",
   "id": "6881271d-32a2-4ead-8806-bdb1ef66be0f",
   "metadata": {},
   "source": [
    "9. What are the differences between the Step Over, Step In, and Step Out buttons in the debugger?\n",
    "- Step button - it will move the debugger into a function call. \n",
    "- Over button - it will quickly execute the function call without stepping into it. \n",
    "- Out button -  it will quickly execute the rest of the code until it steps out of the function it currently is in."
   ]
  },
  {
   "cell_type": "markdown",
   "id": "fd3c3918-c948-490a-bb0c-c8b4b3a5d661",
   "metadata": {},
   "source": [
    "10. After you click Continue, when will the debugger stop ?\n",
    "- After you click Go, the debugger will stop when it has reached the end of the program or a line with a breakpoint."
   ]
  },
  {
   "cell_type": "markdown",
   "id": "8844f9c5-f8d4-41fa-bc7b-9e5a9a75300e",
   "metadata": {},
   "source": [
    "11. What is the concept of a breakpoint?\n",
    "- A breakpoint is a setting on a line of code that causes the debugger to pause when the program execution reaches the line."
   ]
  }
 ],
 "metadata": {
  "kernelspec": {
   "display_name": "Python 3 (ipykernel)",
   "language": "python",
   "name": "python3"
  },
  "language_info": {
   "codemirror_mode": {
    "name": "ipython",
    "version": 3
   },
   "file_extension": ".py",
   "mimetype": "text/x-python",
   "name": "python",
   "nbconvert_exporter": "python",
   "pygments_lexer": "ipython3",
   "version": "3.9.12"
  }
 },
 "nbformat": 4,
 "nbformat_minor": 5
}

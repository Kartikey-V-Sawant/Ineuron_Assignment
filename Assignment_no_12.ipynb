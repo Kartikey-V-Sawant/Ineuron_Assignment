{
 "cells": [
  {
   "cell_type": "markdown",
   "id": "919c38af-937e-4f9a-a39c-17312bfa0f43",
   "metadata": {},
   "source": [
    "# Assignment No 12"
   ]
  },
  {
   "cell_type": "markdown",
   "id": "e23251cb-2f68-4b6e-8b92-86dc030afe41",
   "metadata": {},
   "source": [
    "1. In what modes should the PdfFileReader() and PdfFileWriter() File objects will be opened?\n",
    "- Read-binary ('rb') for PdfFileReader() \n",
    "- write-binary ('wb') for PdfFileWriter()"
   ]
  },
  {
   "cell_type": "markdown",
   "id": "276cf995-2f39-423d-89f8-2b6035350e84",
   "metadata": {},
   "source": [
    "2. From a PdfFileReader object, how do you get a Page object for page 5?\n",
    "- getPage(5)"
   ]
  },
  {
   "cell_type": "markdown",
   "id": "d83bdec8-bc56-4065-9024-a5730fc8a712",
   "metadata": {},
   "source": [
    "3. What PdfFileReader variable stores the number of pages in the PDF document?\n",
    "- The numPages variable stores an integer of the number of pages in the PdfFileReader object."
   ]
  },
  {
   "cell_type": "markdown",
   "id": "4dd69f6d-efa4-4ca7-95b2-c173245c46c3",
   "metadata": {},
   "source": [
    "4. If a PdfFileReader object’s PDF is encrypted with the password swordfish, what must you do\n",
    "before you can obtain Page objects from it?\n",
    "- decrypt('swordfish')"
   ]
  },
  {
   "cell_type": "markdown",
   "id": "86d512fd-588b-4ac1-a383-b36a8ee5e866",
   "metadata": {},
   "source": [
    "5. What methods do you use to rotate a page?\n",
    "- rotateClockwise()\n",
    "- rotateCounterClockwise() "
   ]
  },
  {
   "cell_type": "markdown",
   "id": "60bf7f7c-c17c-44a7-aa85-f1aa6b849026",
   "metadata": {},
   "source": [
    "6. What is the difference between a Run object and a Paragraph object?\n",
    "- A document contains multiple paragraphs. A paragraph begins on a new line and contains multiple runs. \n",
    "- Runs are contiguous groups of characters within a paragraph."
   ]
  },
  {
   "cell_type": "markdown",
   "id": "8dd01d95-e440-42de-8d97-4bbeb0526577",
   "metadata": {},
   "source": [
    "7. How do you obtain a list of Paragraph objects for a Document object that’s stored in a variable named doc?\n",
    "- doc.paragraphs"
   ]
  },
  {
   "cell_type": "markdown",
   "id": "0dafc10e-d708-438b-96f8-bca11d4b3d55",
   "metadata": {},
   "source": [
    "8. What type of object has bold, underline, italic, strike, and outline variables?\n",
    "- A Run object has these variables."
   ]
  },
  {
   "cell_type": "markdown",
   "id": "5a5ba07e-484a-469f-a8c8-c7b4650926cb",
   "metadata": {},
   "source": [
    "9. What is the difference between False, True, and None for the bold variable?\n",
    "- True always makes the Run object bolded\n",
    "- False makes it always not bolded, no matter what the style’s bold setting is. \n",
    "- None will make the Run object just use the style’s bold setting."
   ]
  },
  {
   "cell_type": "markdown",
   "id": "6813fe2a-6e0c-4146-81c7-ed8615e0567e",
   "metadata": {},
   "source": [
    "10. How do you create a Document object for a new Word document?\n",
    "- docx.Document()"
   ]
  },
  {
   "cell_type": "markdown",
   "id": "539f05bd-4655-4762-8722-ff7cfbb1b780",
   "metadata": {},
   "source": [
    "11. How do you add a paragraph with the text 'Hello, there!' to a Document object stored in a\n",
    "variable named doc?\n",
    "- doc.add_paragraph('Hello there!')"
   ]
  },
  {
   "cell_type": "markdown",
   "id": "ddb49f00-511a-4b89-ae84-53f089b11a8a",
   "metadata": {},
   "source": [
    "12. What integers represent the levels of headings available in Word documents?\n",
    "- 0, 1, 2, 3, and 4"
   ]
  },
  {
   "cell_type": "code",
   "execution_count": null,
   "id": "1bb5cc82-7151-48b6-a186-cfb521756680",
   "metadata": {},
   "outputs": [],
   "source": []
  }
 ],
 "metadata": {
  "kernelspec": {
   "display_name": "Python 3 (ipykernel)",
   "language": "python",
   "name": "python3"
  },
  "language_info": {
   "codemirror_mode": {
    "name": "ipython",
    "version": 3
   },
   "file_extension": ".py",
   "mimetype": "text/x-python",
   "name": "python",
   "nbconvert_exporter": "python",
   "pygments_lexer": "ipython3",
   "version": "3.9.12"
  }
 },
 "nbformat": 4,
 "nbformat_minor": 5
}

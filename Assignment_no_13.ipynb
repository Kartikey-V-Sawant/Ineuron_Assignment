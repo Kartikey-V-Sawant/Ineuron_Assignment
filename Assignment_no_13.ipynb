{
 "cells": [
  {
   "cell_type": "markdown",
   "id": "65a54da1-928b-49b3-8207-e5bd7f83a42e",
   "metadata": {},
   "source": [
    "# Assignment No 13"
   ]
  },
  {
   "cell_type": "markdown",
   "id": "74a92425-12e5-467e-b6fe-c2145ef9f30f",
   "metadata": {},
   "source": [
    "1. What advantages do Excel spreadsheets have over CSV spreadsheets?\n",
    "- In Excel, spreadsheets can have values of data types other than strings \n",
    "- cells can have different fonts, sizes, or color settings \n",
    "- cells can have varying widths and heights; adjacent cells can be merged and you can embed images and charts."
   ]
  },
  {
   "cell_type": "markdown",
   "id": "5047c5f3-6141-4da3-a5c3-357be8a801d1",
   "metadata": {},
   "source": [
    "2. What do you pass to csv.reader() and csv.writer() to create reader and writer objects?\n",
    "- We have to  pass a File object obtained from a call to open()."
   ]
  },
  {
   "cell_type": "markdown",
   "id": "c85a72ab-cc42-4ca3-87fe-4cb97ee0a4ab",
   "metadata": {},
   "source": [
    "3. What modes do File objects for reader and writer objects need to be opened in?\n",
    "- read-binary ('rb') - Reader objects \n",
    "- write-binary ('wb') - Writer objects"
   ]
  },
  {
   "cell_type": "markdown",
   "id": "4bd0c03d-5971-4cb0-b7ea-482332f55df5",
   "metadata": {},
   "source": [
    "4. What method takes a list argument and writes it to a CSV file?\n",
    "- writerow()"
   ]
  },
  {
   "cell_type": "markdown",
   "id": "4a52e12c-9985-46cc-a637-d14c742d46d2",
   "metadata": {},
   "source": [
    "5. What do the keyword arguments delimiter and line terminator do?\n",
    "- delimiter - changes the string used to separate cells in a row. \n",
    "- lineterminator - changes the string used to separate rows."
   ]
  },
  {
   "cell_type": "markdown",
   "id": "897de689-0bd2-43e4-acca-dac80f1086a6",
   "metadata": {},
   "source": [
    "6. What function takes a string of JSON data and returns a Python data structure?\n",
    "- json.loads()"
   ]
  },
  {
   "cell_type": "markdown",
   "id": "a099ef82-0b22-41cb-8946-280991982566",
   "metadata": {},
   "source": [
    "7. What function takes a Python data structure and returns a string of JSON data?\n",
    "- json.dumps()"
   ]
  }
 ],
 "metadata": {
  "kernelspec": {
   "display_name": "Python 3 (ipykernel)",
   "language": "python",
   "name": "python3"
  },
  "language_info": {
   "codemirror_mode": {
    "name": "ipython",
    "version": 3
   },
   "file_extension": ".py",
   "mimetype": "text/x-python",
   "name": "python",
   "nbconvert_exporter": "python",
   "pygments_lexer": "ipython3",
   "version": "3.9.12"
  }
 },
 "nbformat": 4,
 "nbformat_minor": 5
}

{
 "cells": [
  {
   "cell_type": "markdown",
   "id": "f83e0689-476f-45be-9cfb-d8e9ab052aca",
   "metadata": {},
   "source": [
    "# ASSIGNMENT NO 14"
   ]
  },
  {
   "cell_type": "markdown",
   "id": "5cb52f7a-ee56-4ecf-8f4e-ff30e8f23f7f",
   "metadata": {},
   "source": [
    "1. What does RGBA stand for?\n",
    "- RGBA color values are an extension of RGB color values with an alpha channel - which specifies the opacity for a color"
   ]
  },
  {
   "cell_type": "markdown",
   "id": "72ba8648-f07a-4c51-aac2-540a363f093c",
   "metadata": {},
   "source": [
    "2. From the Pillow module, how do you get the RGBA value of any images?\n",
    "- ImageColor.getcolor() gives rgba value of any image"
   ]
  },
  {
   "cell_type": "markdown",
   "id": "003d59eb-0d9d-43f8-8ec2-7ca53ce209a4",
   "metadata": {},
   "source": [
    "3. What is a box tuple, and how does it work?\n",
    "- A box tuple is a tuple value of four integers: the left-edge x-coordinate, the top-edge y-coordinate,the width, and the height, respectively."
   ]
  },
  {
   "cell_type": "markdown",
   "id": "c62bcc99-25a0-440d-9455-751c718d9930",
   "metadata": {},
   "source": [
    "4. Use your image and load in notebook then, How can you find out the width and height of an Image object?\n"
   ]
  },
  {
   "cell_type": "markdown",
   "id": "f043ee44-9886-4dbb-aab8-30f8cc371c36",
   "metadata": {},
   "source": [
    "- from PIL import Image\n",
    "- pic = Image.open('Pic.jpg')\n",
    "- print(f'Width, Height -> {pic.size}') "
   ]
  },
  {
   "cell_type": "markdown",
   "id": "84fe94c3-a223-4a9e-b004-0446ba22c642",
   "metadata": {},
   "source": [
    "5. What method would you call to get Image object for a 100×100 image, excluding the lower-left quarter of it?"
   ]
  },
  {
   "cell_type": "markdown",
   "id": "f9d08d4b-e934-4694-a990-f3410b409430",
   "metadata": {},
   "source": [
    "- from PIL import Image\n",
    "- img = Image.open('Pic.jpg')\n",
    "- new_img = img.crop((0,50,50,50))"
   ]
  },
  {
   "cell_type": "markdown",
   "id": "f7e87ce7-8c67-48db-a668-7e7bda64ffe7",
   "metadata": {},
   "source": [
    "6. After making changes to an Image object, how could you save it as an image file?\n",
    "- from PIL import Image\n",
    "- pic = Image.open('pic.jpg')\n",
    "- pic.save('pic2.jpg')\n"
   ]
  },
  {
   "cell_type": "markdown",
   "id": "322b2193-fdc2-4462-a4a6-52cc47b8f75b",
   "metadata": {},
   "source": [
    "7. What module contains Pillow’s shape-drawing code?\n",
    "- Pillows ImageDraw module contains Shape drawing methods"
   ]
  },
  {
   "cell_type": "markdown",
   "id": "033580bb-b506-4555-ad34-2c587d175eb9",
   "metadata": {},
   "source": [
    "8. Image objects do not have drawing methods. What kind of object does? How do you get this kind of object?\n",
    "- ImageDraw objects have shape-drawing methods such as point(), line(), or rectangle().They are returned by passing the Image object to the ImageDraw.Draw() function."
   ]
  },
  {
   "cell_type": "code",
   "execution_count": null,
   "id": "11c85bb0-b535-42c0-bde3-4198e94a5717",
   "metadata": {},
   "outputs": [],
   "source": []
  }
 ],
 "metadata": {
  "kernelspec": {
   "display_name": "Python 3 (ipykernel)",
   "language": "python",
   "name": "python3"
  },
  "language_info": {
   "codemirror_mode": {
    "name": "ipython",
    "version": 3
   },
   "file_extension": ".py",
   "mimetype": "text/x-python",
   "name": "python",
   "nbconvert_exporter": "python",
   "pygments_lexer": "ipython3",
   "version": "3.9.12"
  }
 },
 "nbformat": 4,
 "nbformat_minor": 5
}

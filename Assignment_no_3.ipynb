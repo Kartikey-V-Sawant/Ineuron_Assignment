{
 "cells": [
  {
   "cell_type": "markdown",
   "id": "f035e490-f160-4b5b-a990-bb0077baeaa0",
   "metadata": {},
   "source": [
    "1. Why are functions advantageous to have in your programs?\n",
    "- Functions reduce the need for replication of code which has same logic defined.\n",
    "- This is used for making a large program in to small pieces of programs. It will also help to update those pieces of programs.\n",
    "- By Using a function it is easier to understand."
   ]
  },
  {
   "cell_type": "markdown",
   "id": "ba5b0ad2-1479-4515-a181-41c197313977",
   "metadata": {},
   "source": [
    "================================================================================================================"
   ]
  },
  {
   "cell_type": "markdown",
   "id": "3c6b0349-61a1-4c52-be32-ba907634be61",
   "metadata": {},
   "source": [
    "2. When does the code in a function run: when it's specified or when it's called?\n",
    "- The funtion will only run when it is called."
   ]
  },
  {
   "cell_type": "markdown",
   "id": "956ff884-3750-4be0-9663-9fe11a1fbd4b",
   "metadata": {},
   "source": [
    "================================================================================================================"
   ]
  },
  {
   "cell_type": "markdown",
   "id": "74d83786-624d-4f91-8115-736589c54564",
   "metadata": {},
   "source": [
    "3. What statement creates a function?\n",
    "- For creating a function we use 'def' statement.\n",
    "- sytax for creating a funtion :- def func_name():"
   ]
  },
  {
   "cell_type": "markdown",
   "id": "ee44752b-16fc-44d1-bbc6-36579add6fc8",
   "metadata": {},
   "source": [
    "================================================================================================================"
   ]
  },
  {
   "cell_type": "markdown",
   "id": "9068402d-b93f-441e-81ad-48f4b6116d59",
   "metadata": {},
   "source": [
    "4. What is the difference between a function and a function call?\n",
    "- A function consists of the def statement.\n",
    "- A function call is what moves the program execution into the function, and the function call evaluates to the function's return value."
   ]
  },
  {
   "cell_type": "markdown",
   "id": "f9b05a0a-bd9a-4b03-8968-a918b4a2b7ae",
   "metadata": {},
   "source": [
    "================================================================================================================"
   ]
  },
  {
   "cell_type": "markdown",
   "id": "3b2e7a46-aa5b-4da5-b6d1-d922c918ea6d",
   "metadata": {},
   "source": [
    "5. How many global scopes are there in a Python program? How many local scopes?\n",
    "- In Python there is only one global scope.\n",
    "- Local scope is created whenever a function is called."
   ]
  },
  {
   "cell_type": "markdown",
   "id": "0ac36eaa-1834-4439-883c-6fea8279e710",
   "metadata": {},
   "source": [
    "================================================================================================================"
   ]
  },
  {
   "cell_type": "markdown",
   "id": "c778204f-af22-4d06-962b-fa09a2d681f8",
   "metadata": {},
   "source": [
    "6. What happens to variables in a local scope when the function call returns?\n",
    "- The local scope is destroyed and all the variables in it gets flashed away."
   ]
  },
  {
   "cell_type": "markdown",
   "id": "53616185-6d67-40c9-bd0e-68dd59e8e944",
   "metadata": {},
   "source": [
    "================================================================================================================"
   ]
  },
  {
   "cell_type": "markdown",
   "id": "f0c7b454-5fd7-488e-a4de-ae6cd55a8359",
   "metadata": {},
   "source": [
    "7. What is the concept of a return value? Is it possible to have a return value in an expression?\n",
    "- The Value returned by function called is known as return value.\n",
    "- eg. def example(): \n",
    "        return x:\n",
    "- For above eg x is the return value.\n",
    "- Yes it's possible to have a return value in an expression."
   ]
  },
  {
   "cell_type": "markdown",
   "id": "0183ccfd-8ba0-4d3b-912b-b42593aab778",
   "metadata": {},
   "source": [
    "================================================================================================================"
   ]
  },
  {
   "cell_type": "markdown",
   "id": "d32b4f25-b046-4a65-b651-99a5800a9b9f",
   "metadata": {},
   "source": [
    "8. If a function does not have a return statement, what is the return value of a call to that function?\n",
    "- Then the return value by default is None."
   ]
  },
  {
   "cell_type": "markdown",
   "id": "2a1c5cd1-a666-47be-a65a-3c2a73efb325",
   "metadata": {},
   "source": [
    "================================================================================================================"
   ]
  },
  {
   "cell_type": "markdown",
   "id": "5424ba4e-1e17-467b-a88b-ac7c3c568fd2",
   "metadata": {},
   "source": [
    "9. How do you make a function variable refer to the global variable?\n",
    "- Global statement will make a variable in a function to refer to the global variable."
   ]
  },
  {
   "cell_type": "markdown",
   "id": "fb048eab-ead6-4600-b6cb-fdee8ff1162a",
   "metadata": {},
   "source": [
    "================================================================================================================"
   ]
  },
  {
   "cell_type": "markdown",
   "id": "487af77e-1668-4043-9a87-a5e98cd7b20e",
   "metadata": {},
   "source": [
    "10. What is the data type of None?\n",
    "- NoneType"
   ]
  },
  {
   "cell_type": "markdown",
   "id": "228d0f85-cd66-49c8-922a-f1fdb5f4db6c",
   "metadata": {},
   "source": [
    "================================================================================================================"
   ]
  },
  {
   "cell_type": "markdown",
   "id": "b2172b04-d6ac-4b2f-9b26-55602a5e2cf8",
   "metadata": {},
   "source": [
    "11. What does the sentence import areallyourpetsnamederic do?\n",
    "- It will import module name areallyourpetsnamederic"
   ]
  },
  {
   "cell_type": "markdown",
   "id": "48af8b06-bcd1-4ab9-8d44-7d2c7b793f6f",
   "metadata": {},
   "source": [
    "================================================================================================================"
   ]
  },
  {
   "cell_type": "markdown",
   "id": "c23ab9bb-11b9-4498-a9cd-0ce1014777a1",
   "metadata": {},
   "source": [
    "12. If you had a bacon() feature in a spam module, what would you call it after importing spam?\n",
    "- spam.bacon()"
   ]
  },
  {
   "cell_type": "markdown",
   "id": "df3dbd30-65b3-4c9b-8373-836bb22cc59c",
   "metadata": {},
   "source": [
    "================================================================================================================"
   ]
  },
  {
   "cell_type": "markdown",
   "id": "80f4e499-19d8-45f0-a3a6-1d7d3534f826",
   "metadata": {},
   "source": [
    "13. What can you do to save a programme from crashing if it encounters an error?\n",
    "- By using try block for that particular code"
   ]
  },
  {
   "cell_type": "markdown",
   "id": "adcaa24f-c652-4dfe-9b82-a4cf39b4e2b6",
   "metadata": {},
   "source": [
    "================================================================================================================"
   ]
  },
  {
   "cell_type": "markdown",
   "id": "3422a18d-9d51-496c-ae44-d00ca8065bc4",
   "metadata": {},
   "source": [
    "14. What is the purpose of the try clause? What is the purpose of the except clause?\n",
    "- try clause - consists the code that could cause an error.\n",
    "- except clause. - consists the code that executes if an error occur. "
   ]
  },
  {
   "cell_type": "markdown",
   "id": "da616ae6-d8a4-4051-8c71-b16c3f2f8769",
   "metadata": {},
   "source": [
    "================================================================================================================"
   ]
  }
 ],
 "metadata": {
  "kernelspec": {
   "display_name": "Python 3 (ipykernel)",
   "language": "python",
   "name": "python3"
  },
  "language_info": {
   "codemirror_mode": {
    "name": "ipython",
    "version": 3
   },
   "file_extension": ".py",
   "mimetype": "text/x-python",
   "name": "python",
   "nbconvert_exporter": "python",
   "pygments_lexer": "ipython3",
   "version": "3.9.12"
  }
 },
 "nbformat": 4,
 "nbformat_minor": 5
}

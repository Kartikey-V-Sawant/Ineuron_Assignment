{
 "cells": [
  {
   "cell_type": "markdown",
   "id": "ccef3f0e-627a-4f05-833b-e1cb370db486",
   "metadata": {},
   "source": [
    "# Assignment No 4"
   ]
  },
  {
   "cell_type": "markdown",
   "id": "3a4547fb-dab5-478c-b517-15b500f603b9",
   "metadata": {},
   "source": [
    "1. What exactly is []?\n",
    "- A list with no items or values in it."
   ]
  },
  {
   "cell_type": "markdown",
   "id": "5b45004a-d5b6-481b-b282-9718bec95eda",
   "metadata": {},
   "source": [
    "2. In a list of values stored in a variable called spam, how would you assign the value 'hello' as the\n",
    "third value? (Assume [2, 4, 6, 8, 10] are in spam.)"
   ]
  },
  {
   "cell_type": "code",
   "execution_count": 3,
   "id": "ba250925-23c1-4d61-b586-a9dcedae3321",
   "metadata": {},
   "outputs": [
    {
     "name": "stdout",
     "output_type": "stream",
     "text": [
      "spam =  [2, 4, 6, 8, 10]\n",
      "spam after inserting 'hello' at 3rd position [2, 4, 'hello', 8, 10]\n"
     ]
    }
   ],
   "source": [
    "spam=[2,4,6,8,10]\n",
    "print(\"spam = \",spam)\n",
    "spam[2]='hello'\n",
    "print(\"spam after inserting 'hello' at 3rd position\",spam)"
   ]
  },
  {
   "cell_type": "markdown",
   "id": "3dd3f871-7988-4a43-9a02-82d41e4a3424",
   "metadata": {},
   "source": [
    "Lets pretend the spam includes the list ['a','b','c','d'] for the next three queries."
   ]
  },
  {
   "cell_type": "markdown",
   "id": "11550940-31b5-420b-a1c2-cfd949275323",
   "metadata": {},
   "source": [
    "3. What is the value of spam[int(int(&#39;3&#39; * 2) / 11)]?"
   ]
  },
  {
   "cell_type": "code",
   "execution_count": 7,
   "id": "996bafb3-ee4b-482c-8cc6-ba8192efed63",
   "metadata": {},
   "outputs": [],
   "source": [
    "spam=['a','b','c','d']"
   ]
  },
  {
   "cell_type": "code",
   "execution_count": 10,
   "id": "09c5751d-8107-4aeb-bc99-a2f101f1d9c3",
   "metadata": {},
   "outputs": [
    {
     "data": {
      "text/plain": [
       "'d'"
      ]
     },
     "execution_count": 10,
     "metadata": {},
     "output_type": "execute_result"
    }
   ],
   "source": [
    "spam[int(int('3'*2)/11)]"
   ]
  },
  {
   "cell_type": "markdown",
   "id": "a74afd8c-dac0-4f6a-860c-7f60d1c29c53",
   "metadata": {},
   "source": [
    "4. What is the value of spam[-1]?"
   ]
  },
  {
   "cell_type": "code",
   "execution_count": 11,
   "id": "d215e774-cfc5-4104-a155-a4a5065b452a",
   "metadata": {},
   "outputs": [
    {
     "data": {
      "text/plain": [
       "'d'"
      ]
     },
     "execution_count": 11,
     "metadata": {},
     "output_type": "execute_result"
    }
   ],
   "source": [
    "spam[-1]"
   ]
  },
  {
   "cell_type": "markdown",
   "id": "964cd30b-6391-4ccf-9082-f9bf01d63173",
   "metadata": {},
   "source": [
    "5. What is the value of spam[:2]?"
   ]
  },
  {
   "cell_type": "code",
   "execution_count": 12,
   "id": "7c8f4a0c-75c3-49b3-9b07-bfc5669b408c",
   "metadata": {},
   "outputs": [
    {
     "data": {
      "text/plain": [
       "['a', 'b']"
      ]
     },
     "execution_count": 12,
     "metadata": {},
     "output_type": "execute_result"
    }
   ],
   "source": [
    "spam[:2]"
   ]
  },
  {
   "cell_type": "markdown",
   "id": "4191bff0-5def-4b55-8529-eb032fb43f6f",
   "metadata": {},
   "source": [
    "Lets pretend bacon has the list [3.14,'cat',11,'cat',True] for the next three questions."
   ]
  },
  {
   "cell_type": "code",
   "execution_count": 16,
   "id": "92efa669-4cdd-404e-a0a7-a6d664669a49",
   "metadata": {},
   "outputs": [],
   "source": [
    "bacon=[3.14,'cat',11,'cat',True] "
   ]
  },
  {
   "cell_type": "markdown",
   "id": "7e0568c4-3563-4200-a69a-5a5a0fab3af5",
   "metadata": {},
   "source": [
    "6. What is the value of bacon.index('cat')?"
   ]
  },
  {
   "cell_type": "code",
   "execution_count": 17,
   "id": "c432cf04-3915-4765-9abf-3dc8911479a6",
   "metadata": {},
   "outputs": [
    {
     "data": {
      "text/plain": [
       "1"
      ]
     },
     "execution_count": 17,
     "metadata": {},
     "output_type": "execute_result"
    }
   ],
   "source": [
    "bacon.index('cat')"
   ]
  },
  {
   "cell_type": "markdown",
   "id": "8e4a5679-5180-4d1c-80ff-86b478ca5ee3",
   "metadata": {},
   "source": [
    "7. How does bacon.append(99) change the look of the list value in bacon?"
   ]
  },
  {
   "cell_type": "code",
   "execution_count": 18,
   "id": "03da0250-18c9-494f-9db7-ad5a1ee7d49c",
   "metadata": {},
   "outputs": [
    {
     "data": {
      "text/plain": [
       "[3.14, 'cat', 11, 'cat', True, 99]"
      ]
     },
     "execution_count": 18,
     "metadata": {},
     "output_type": "execute_result"
    }
   ],
   "source": [
    "bacon.append(99)\n",
    "bacon"
   ]
  },
  {
   "cell_type": "markdown",
   "id": "1548b8b2-43c5-4c8b-9c23-4c28f0198763",
   "metadata": {},
   "source": [
    "8. How does bacon.remove(&#39;cat&#39;) change the look of the list in bacon?"
   ]
  },
  {
   "cell_type": "code",
   "execution_count": 19,
   "id": "34ad5a7e-24a3-419c-95cb-2bffd33dab99",
   "metadata": {},
   "outputs": [
    {
     "data": {
      "text/plain": [
       "[3.14, 11, 'cat', True, 99]"
      ]
     },
     "execution_count": 19,
     "metadata": {},
     "output_type": "execute_result"
    }
   ],
   "source": [
    "bacon.remove('cat')\n",
    "bacon"
   ]
  },
  {
   "cell_type": "markdown",
   "id": "231d9b1c-7409-4d91-913e-7e8c15bb86d1",
   "metadata": {},
   "source": [
    "9. What are the list concatenation and list replication operators?"
   ]
  },
  {
   "cell_type": "code",
   "execution_count": 21,
   "id": "fe8f9ae5-37d2-4415-a113-cf1adee65b0e",
   "metadata": {},
   "outputs": [
    {
     "name": "stdout",
     "output_type": "stream",
     "text": [
      "concatenation  ['a', 'b', 'c', 'd', 3.14, 11, 'cat', True, 99]\n",
      "replication  ['a', 'b', 'c', 'd', 'a', 'b', 'c', 'd', 'a', 'b', 'c', 'd']\n"
     ]
    }
   ],
   "source": [
    "concat=spam+bacon # list concatenation(operator used '+')\n",
    "replic=spam*3 # list replication (operator used '*')\n",
    "print('concatenation ',concat)\n",
    "print('replication ',replic)"
   ]
  },
  {
   "cell_type": "markdown",
   "id": "2818d0bb-e680-4a4f-8e3d-2cff946c3f20",
   "metadata": {},
   "source": [
    "10. What is difference between the list methods append() and insert()?\n",
    "- append() - adds item to end of the list.\n",
    "- insert() - adds item anywhere in the list."
   ]
  },
  {
   "cell_type": "markdown",
   "id": "d8f8bb75-3ce3-4ede-831a-d522f00dc28f",
   "metadata": {},
   "source": [
    "11. What are the two methods for removing items from a list?\n",
    "- del()\n",
    "- remove()"
   ]
  },
  {
   "cell_type": "markdown",
   "id": "7625343a-82df-446b-8194-4c153a3ebf3d",
   "metadata": {},
   "source": [
    "12. Describe how list values and string values are identical.\n",
    "- To view length of string and list we use len().\n",
    "- For looping on string or list we use indexes and slicing.\n",
    "- Concatenation and replication operation can be done in same way."
   ]
  },
  {
   "cell_type": "markdown",
   "id": "a6ec2950-ab7e-4155-ab3d-4caa34c6fbe7",
   "metadata": {},
   "source": [
    "13. What is the difference between tuples and lists?\n",
    "| Tuples | List |\n",
    "|--------|------|\n",
    "|1. Tuples are Immutable|1. List are Mutuable.|\n",
    "|2. () represents tuple.| 2. [] represents list.|"
   ]
  },
  {
   "cell_type": "markdown",
   "id": "20a505c4-e18e-45c0-8d90-fe64971a76f7",
   "metadata": {},
   "source": [
    "14. How do you type a tuple value that only contains the integer 42?"
   ]
  },
  {
   "cell_type": "code",
   "execution_count": 22,
   "id": "52ed4ed5-89a6-408f-a02a-3759d68eda81",
   "metadata": {},
   "outputs": [
    {
     "data": {
      "text/plain": [
       "42"
      ]
     },
     "execution_count": 22,
     "metadata": {},
     "output_type": "execute_result"
    }
   ],
   "source": [
    "(42)"
   ]
  },
  {
   "cell_type": "markdown",
   "id": "fc26aced-3654-450a-9339-881e02863e78",
   "metadata": {},
   "source": [
    "15. How do you get a list value&#39;s tuple form? How do you get a tuple value&#39;s list form?"
   ]
  },
  {
   "cell_type": "code",
   "execution_count": 25,
   "id": "ce48fbb2-471b-4210-ae57-4322211cf790",
   "metadata": {},
   "outputs": [
    {
     "data": {
      "text/plain": [
       "('a', 'b', 'c', 'd')"
      ]
     },
     "execution_count": 25,
     "metadata": {},
     "output_type": "execute_result"
    }
   ],
   "source": [
    "t=tuple(spam)\n",
    "t"
   ]
  },
  {
   "cell_type": "code",
   "execution_count": 27,
   "id": "e202e556-1d8e-4f49-b0c0-8a0e5fff7820",
   "metadata": {},
   "outputs": [
    {
     "data": {
      "text/plain": [
       "['a', 'b', 'c', 'd']"
      ]
     },
     "execution_count": 27,
     "metadata": {},
     "output_type": "execute_result"
    }
   ],
   "source": [
    "l=list(t)\n",
    "l"
   ]
  },
  {
   "cell_type": "markdown",
   "id": "7edcfe4d-1cf1-4f8c-bf4d-2ccd1425b9a9",
   "metadata": {},
   "source": [
    "16. Variables that \"contains\" list values are not necessarily lists themselves. Instead, what do they\n",
    "contain?\n",
    "- reference to the list values."
   ]
  },
  {
   "cell_type": "markdown",
   "id": "5c1d3f29-bbd7-4af7-80c5-2038c73f998a",
   "metadata": {},
   "source": [
    "17. How do you distinguish between copy.copy() and copy.deepcopy()?"
   ]
  },
  {
   "cell_type": "markdown",
   "id": "46552955-b469-4be4-9484-c1b727cb8378",
   "metadata": {},
   "source": [
    "The copy.copy() function will do a shallow copy of a list, while the copy.deepcopy() function will do a deep copy of a list. \n",
    "That is, only copy.deepcopy() will duplicate any lists inside the list."
   ]
  },
  {
   "cell_type": "code",
   "execution_count": null,
   "id": "ab12073e-fd0a-40fd-818a-eb4de6a78936",
   "metadata": {},
   "outputs": [],
   "source": []
  }
 ],
 "metadata": {
  "kernelspec": {
   "display_name": "Python 3 (ipykernel)",
   "language": "python",
   "name": "python3"
  },
  "language_info": {
   "codemirror_mode": {
    "name": "ipython",
    "version": 3
   },
   "file_extension": ".py",
   "mimetype": "text/x-python",
   "name": "python",
   "nbconvert_exporter": "python",
   "pygments_lexer": "ipython3",
   "version": "3.9.12"
  }
 },
 "nbformat": 4,
 "nbformat_minor": 5
}

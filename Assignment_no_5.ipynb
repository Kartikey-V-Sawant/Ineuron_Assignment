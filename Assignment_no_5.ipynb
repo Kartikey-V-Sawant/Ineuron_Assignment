{
 "cells": [
  {
   "cell_type": "markdown",
   "id": "b97126ae-e35a-4a46-b354-4ec42ff4cd26",
   "metadata": {},
   "source": [
    "# Assignment No 5"
   ]
  },
  {
   "cell_type": "markdown",
   "id": "70c299de-f14d-4928-a817-63bb5a30c9fd",
   "metadata": {},
   "source": [
    "1. What does an empty dictionarys code look like?\n",
    "- {} represents dictonary."
   ]
  },
  {
   "cell_type": "markdown",
   "id": "679b0704-0c09-4f14-9299-35e6d6e6877b",
   "metadata": {},
   "source": [
    "2. What is the value of a dictionary value with the key 'foo' and the value 42?\n",
    "- {'foo':42}"
   ]
  },
  {
   "cell_type": "markdown",
   "id": "b92abef6-6c95-473f-8a1a-e1a04f1e3602",
   "metadata": {},
   "source": [
    "3. What is the most significant distinction between a dictionary and a list?\n",
    "- The items stored in a dictionary are unordered.\n",
    "- The items stored in a list are ordered."
   ]
  },
  {
   "cell_type": "markdown",
   "id": "680f49e0-a977-4771-8220-202a03b3a7a0",
   "metadata": {},
   "source": [
    "4. What happens if you try to access spam['foo'] if spam is {'bar': 100}?\n",
    "- It will key error"
   ]
  },
  {
   "cell_type": "code",
   "execution_count": 4,
   "id": "1efc1533-a7c9-4bc3-b270-426d359be302",
   "metadata": {},
   "outputs": [
    {
     "name": "stdout",
     "output_type": "stream",
     "text": [
      "spam  {'bar': 100}\n"
     ]
    },
    {
     "ename": "KeyError",
     "evalue": "'foo'",
     "output_type": "error",
     "traceback": [
      "\u001b[1;31m---------------------------------------------------------------------------\u001b[0m",
      "\u001b[1;31mKeyError\u001b[0m                                  Traceback (most recent call last)",
      "Input \u001b[1;32mIn [4]\u001b[0m, in \u001b[0;36m<cell line: 3>\u001b[1;34m()\u001b[0m\n\u001b[0;32m      1\u001b[0m spam\u001b[38;5;241m=\u001b[39m{\u001b[38;5;124m'\u001b[39m\u001b[38;5;124mbar\u001b[39m\u001b[38;5;124m'\u001b[39m:\u001b[38;5;241m100\u001b[39m}\n\u001b[0;32m      2\u001b[0m \u001b[38;5;28mprint\u001b[39m(\u001b[38;5;124m'\u001b[39m\u001b[38;5;124mspam \u001b[39m\u001b[38;5;124m'\u001b[39m,spam)\n\u001b[1;32m----> 3\u001b[0m \u001b[38;5;28mprint\u001b[39m(\u001b[38;5;124m\"\u001b[39m\u001b[38;5;124mspam[\u001b[39m\u001b[38;5;124m'\u001b[39m\u001b[38;5;124mfoo\u001b[39m\u001b[38;5;124m'\u001b[39m\u001b[38;5;124m]\u001b[39m\u001b[38;5;124m\"\u001b[39m,\u001b[43mspam\u001b[49m\u001b[43m[\u001b[49m\u001b[38;5;124;43m'\u001b[39;49m\u001b[38;5;124;43mfoo\u001b[39;49m\u001b[38;5;124;43m'\u001b[39;49m\u001b[43m]\u001b[49m)\n",
      "\u001b[1;31mKeyError\u001b[0m: 'foo'"
     ]
    }
   ],
   "source": [
    "spam={'bar':100}\n",
    "print('spam ',spam)\n",
    "print(\"spam['foo']\",spam['foo'])"
   ]
  },
  {
   "cell_type": "markdown",
   "id": "edd81616-7818-483b-8ca2-816d900c1ac0",
   "metadata": {},
   "source": [
    "5. If a dictionary is stored in spam, what is the difference between the expressions 'cat' in spam and\n",
    "'cat' in spam.keys()?\n",
    "- There is no difference. Both will check 'cat' is present in spam's key or not."
   ]
  },
  {
   "cell_type": "markdown",
   "id": "f10d793e-ef78-4930-b04e-04532d2a109c",
   "metadata": {},
   "source": [
    "6. If a dictionary is stored in spam, what is the difference between the expressions'cat' in spam and\n",
    "'cat' in spam.values()?\n",
    "- 'cat' in spam will check 'cat' is present in key or not. 'cat' in spam.values() will check 'cat' is present in spam's value or not."
   ]
  },
  {
   "cell_type": "markdown",
   "id": "ad99b3d5-ec80-4894-bf84-8394916735b3",
   "metadata": {},
   "source": [
    "7. What is a shortcut for the following code?\n",
    "- code :- if 'color' not in spam:\n",
    "        spam['color'] = 'black';\n",
    "- answer :- spam.setdefault('color', 'black')"
   ]
  },
  {
   "cell_type": "markdown",
   "id": "cc4ba228-606d-47b5-9f75-21cafec8ac63",
   "metadata": {},
   "source": [
    "8. How do you \"pretty print\" dictionary values using which module and function?\n",
    "- pprint.pprint()"
   ]
  },
  {
   "cell_type": "code",
   "execution_count": null,
   "id": "6cee3f92-88c6-4996-bfda-a3fe25f07ea2",
   "metadata": {},
   "outputs": [],
   "source": []
  }
 ],
 "metadata": {
  "kernelspec": {
   "display_name": "Python 3 (ipykernel)",
   "language": "python",
   "name": "python3"
  },
  "language_info": {
   "codemirror_mode": {
    "name": "ipython",
    "version": 3
   },
   "file_extension": ".py",
   "mimetype": "text/x-python",
   "name": "python",
   "nbconvert_exporter": "python",
   "pygments_lexer": "ipython3",
   "version": "3.9.12"
  }
 },
 "nbformat": 4,
 "nbformat_minor": 5
}

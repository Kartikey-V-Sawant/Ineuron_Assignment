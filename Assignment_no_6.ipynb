{
 "cells": [
  {
   "cell_type": "markdown",
   "id": "0dee23cd-1bc0-41f1-8040-6c76fd1dae3c",
   "metadata": {},
   "source": [
    "# Assignment No 5"
   ]
  },
  {
   "cell_type": "markdown",
   "id": "18a7dafd-79e3-4246-8bf2-c5656427ef2b",
   "metadata": {},
   "source": [
    "1. What are escape characters, and how do you use them?\n",
    "- Escape characters represent characters in string values that would otherwise be difficult or impossible to type into code.\n",
    "- An escape character is a backslash \\ followed by the character you want to insert."
   ]
  },
  {
   "cell_type": "markdown",
   "id": "8f670f47-df2d-4890-a581-c5d248825f7a",
   "metadata": {},
   "source": [
    "2. What do the escape characters n and t stand for?\n",
    "- \\n = newline\n",
    "- \\t = tab."
   ]
  },
  {
   "cell_type": "markdown",
   "id": "af8e92f9-29dd-4f14-880e-6cf2f7e89bf9",
   "metadata": {},
   "source": [
    "3. What is the way to include backslash characters in a string?\n",
    "- Double Backslash \\\\ escape character will represent a backslash character."
   ]
  },
  {
   "cell_type": "markdown",
   "id": "c7f80494-ee84-486e-8b63-543646509c42",
   "metadata": {},
   "source": [
    "4. The string \"Howl's Moving Castle\" is a correct value. Why isn't the single quote character in the\n",
    "word Howl's not escaped a problem?\n",
    "- Since we have used double quotes to mark the beginning and end of the string, the single quote in Howl's is correct value."
   ]
  },
  {
   "cell_type": "markdown",
   "id": "10cdb2af-d1e3-4db3-9eed-0dd61b2b55bb",
   "metadata": {},
   "source": [
    "5. How do you write a string of newlines if you don't want to use the n character?\n",
    "- Multiline strings allow you to use newlines in strings without the \\n escape character."
   ]
  },
  {
   "cell_type": "markdown",
   "id": "4f3e2da4-507b-4dcf-8642-2b2fd1e6dcf9",
   "metadata": {},
   "source": [
    "6. What are the values of the given expressions?\n",
    "- 'Hello, world!'[1] = 'e'\n",
    "- 'Hello, world!'[0:5] = 'Hello'\n",
    "- 'Hello, world!'[:5] = 'Hello'\n",
    "- 'Hello, world!'[3:] = 'lo world! "
   ]
  },
  {
   "cell_type": "markdown",
   "id": "0c5f2eef-3666-4972-ab98-a73f91347c41",
   "metadata": {},
   "source": [
    "7. What are the values of the following expressions?\n",
    "- 'Hello'.upper() = HELLO\n",
    "- 'Hello'.upper().isupper() = True\n",
    "- 'Hello'.upper().lower() = hello"
   ]
  },
  {
   "cell_type": "markdown",
   "id": "f3fcf95d-2af6-4c6f-9021-2e1f9132e76c",
   "metadata": {},
   "source": [
    "8. What are the values of the following expressions?\n",
    "- 'Remember, remember, the fifth of July.'.split() - ['Remember,', 'remember,', 'the', 'fifth', 'of', 'November.']\n",
    "- '-'.join('There can only one.';.split()) - 'There-can-be-only-one.'"
   ]
  },
  {
   "cell_type": "markdown",
   "id": "0f9e2e39-0b1a-4ba2-9720-161b122905eb",
   "metadata": {},
   "source": [
    "9. What are the methods for right-justifying, left-justifying, and centering a string?\n",
    "- rjust() - right justifying \n",
    "- ljust() - left justifying  \n",
    "- center() - centering justifying."
   ]
  },
  {
   "cell_type": "markdown",
   "id": "564df3cf-37da-462d-aad5-059a3631e5b9",
   "metadata": {},
   "source": [
    "10. What is the best way to remove whitespace characters from the start or end?\n",
    "- lstrip() -  start \n",
    "- rstrip() "
   ]
  }
 ],
 "metadata": {
  "kernelspec": {
   "display_name": "Python 3 (ipykernel)",
   "language": "python",
   "name": "python3"
  },
  "language_info": {
   "codemirror_mode": {
    "name": "ipython",
    "version": 3
   },
   "file_extension": ".py",
   "mimetype": "text/x-python",
   "name": "python",
   "nbconvert_exporter": "python",
   "pygments_lexer": "ipython3",
   "version": "3.9.12"
  }
 },
 "nbformat": 4,
 "nbformat_minor": 5
}

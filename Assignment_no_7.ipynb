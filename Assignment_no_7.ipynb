{
 "cells": [
  {
   "cell_type": "markdown",
   "id": "9a3642d2-c424-44eb-aff1-0be437ea1fbd",
   "metadata": {},
   "source": [
    "# Assignment No 7"
   ]
  },
  {
   "cell_type": "markdown",
   "id": "c474ed18-6568-492c-a6e6-44eed87ca36f",
   "metadata": {},
   "source": [
    "1. What is the name of the feature responsible for generating Regex objects?\n",
    "- re.compile() Functions"
   ]
  },
  {
   "cell_type": "markdown",
   "id": "3bc96542-4270-425b-b908-0856954928e7",
   "metadata": {},
   "source": [
    "2. Why do raw strings often appear in Regex objects?\n",
    "- Raw strings are used so that backslashes do not have to be escaped."
   ]
  },
  {
   "cell_type": "markdown",
   "id": "6ee956b1-fac6-4aca-927a-89af8cb12368",
   "metadata": {},
   "source": [
    "3. What is the return value of the search() method?\n",
    "- The search() method returns Match objects."
   ]
  },
  {
   "cell_type": "markdown",
   "id": "86ddb522-a81f-4a3e-ba23-03e157aa5799",
   "metadata": {},
   "source": [
    "4. From a Match item, how do you get the actual strings that match the pattern?\n",
    "- Using Group() method- it returns strings of matched text."
   ]
  },
  {
   "cell_type": "markdown",
   "id": "1a9a9485-7de5-45af-a983-33ae85706420",
   "metadata": {},
   "source": [
    "5. In the regex which created from the r'(\\d\\d\\d)-(\\d\\d\\d-\\d\\d\\d\\d)', what does group zero cover?\n",
    "Group 2? Group 1?\n",
    "- Group 0 is the entire match. \n",
    "- group 1 covers the first set of parentheses. \n",
    "- group 2 covers the second set of parentheses."
   ]
  },
  {
   "cell_type": "markdown",
   "id": "1c01faa9-6a2f-4a7e-8782-4733ec892c21",
   "metadata": {},
   "source": [
    "6. In standard expression syntax, parentheses and intervals have distinct meanings. How can you tell\n",
    "a regex that you want it to fit real parentheses and periods?\n",
    "- Periods and parentheses can be escaped with a backslash: \\., \\(, and \\)."
   ]
  },
  {
   "cell_type": "markdown",
   "id": "28574593-ad2b-45d8-b238-ddbe44c2477b",
   "metadata": {},
   "source": [
    "7. The findall() method returns a string list or a list of string tuples. What causes it to return one of\n",
    "the two options?\n",
    "- If the regex has no groups-> a list of strings is returned. \n",
    "- If the regex has groups -> a list of tuples of strings is returned."
   ]
  },
  {
   "cell_type": "markdown",
   "id": "da58bcb8-83e4-49a6-98b5-fcdf75ed2a33",
   "metadata": {},
   "source": [
    "8. In standard expressions, what does the | character mean?\n",
    "- The | character signifies matching \"either, or\" between two groups."
   ]
  },
  {
   "cell_type": "markdown",
   "id": "6bd197c8-4fec-492c-ad23-a8fbf3f4a0be",
   "metadata": {},
   "source": [
    "9. In regular expressions, what does the character ? stand for?\n",
    "- The ? character can either mean \"match zero or one of the preceding group\" or be used to signify nongreedy matching."
   ]
  },
  {
   "cell_type": "markdown",
   "id": "6fe08bea-71fa-43dc-9a93-389cd8f109a8",
   "metadata": {},
   "source": [
    "10.In regular expressions, what is the difference between the + and * characters?\n",
    "- The + matches one or more. The * matches zero or more."
   ]
  },
  {
   "cell_type": "markdown",
   "id": "fba61c7b-0f24-49d1-b59e-bb955d1d9e33",
   "metadata": {},
   "source": [
    "11. What is the difference between {4} and {4,5} in regular expression?\n",
    "- {3} - matches exactly three instances of the preceding group. \n",
    "- {3,5} - matches between three and five instances."
   ]
  },
  {
   "cell_type": "markdown",
   "id": "60fb7dd2-10df-409d-b356-d55e93d13c6c",
   "metadata": {},
   "source": [
    "12. What do you mean by the \\d, \\w, and \\s shorthand character classes signify in regular\n",
    "expressions?\n",
    "- \\d -  single digit\n",
    "- \\w - word\n",
    "- \\s - space"
   ]
  },
  {
   "cell_type": "markdown",
   "id": "bda26c99-794e-4328-98ce-c004cb6c50d9",
   "metadata": {},
   "source": [
    "13. What do means by \\D, \\W, and \\S shorthand character classes signify in regular expressions?\n",
    "- \\D - not a single digit\n",
    "- \\W - not a word\n",
    "- \\S - not a space"
   ]
  },
  {
   "cell_type": "markdown",
   "id": "740b4dec-4367-4d42-903f-91b27dce3489",
   "metadata": {},
   "source": [
    "14. What is the difference between .*? and .*?\n",
    "- *? performs a greedy match, and the \n",
    "- .? performs a nongreedy match."
   ]
  },
  {
   "cell_type": "markdown",
   "id": "f39c0e99-da60-4741-bfa1-e5ad3726d696",
   "metadata": {},
   "source": [
    "15. What is the syntax for matching both numbers and lowercase letters with a character class?\n",
    "- [0-9a-z] or [a-z0-9]"
   ]
  },
  {
   "cell_type": "markdown",
   "id": "58655eb0-3a37-45e5-9b0b-7999ea45b816",
   "metadata": {},
   "source": [
    "16. What is the procedure for making a normal expression in regax case insensitive?\n",
    "- Passing re.I or re.IGNORECASE as the second argument to re.compile() will make the matching case insensitive."
   ]
  },
  {
   "cell_type": "markdown",
   "id": "acfaec98-aeb5-41f2-9211-3348780490fc",
   "metadata": {},
   "source": [
    "17. What does the . character normally match? What does it match if re.DOTALL is passed as 2nd\n",
    "argument in re.compile()?\n",
    "- The . character normally matches any character except the newline character. If re.DOTALL is passed as the second argument to re.compile(), then the dot will also match newline characters."
   ]
  },
  {
   "cell_type": "markdown",
   "id": "cfda54c1-fe1c-4b9f-8f4d-ab4489f731e6",
   "metadata": {},
   "source": [
    "18. If numReg = re.compile('\\d'), what will numRegex.sub('X', '11 drummers, 10 pipers, five rings, 4 hen') return?\n",
    "- 'X drummers, X pipers, five rings, X hens'"
   ]
  },
  {
   "cell_type": "markdown",
   "id": "473dfa01-943c-4d91-aad7-704ff590c729",
   "metadata": {},
   "source": [
    "19. What does passing re.VERBOSE as the 2nd argument to re.compile() allow to do?\n",
    "- The re.VERBOSE argument allows you to add whitespace and comments to the string passed to re.compile()."
   ]
  },
  {
   "cell_type": "markdown",
   "id": "585c377f-85ee-44ac-adaf-378b5d3823d9",
   "metadata": {},
   "source": [
    "20. How would you write a regex that match a number with comma for every three digits? It must\n",
    "match the given following:\n",
    "'42'\n",
    "'1,234'\n",
    "'6,368,745'\n",
    "\n",
    "but not the following:\n",
    "'12,34,567' (which has only two digits between the commas)\n",
    "'1234' (which lacks commas)\n",
    "\n",
    "\n",
    "-- re.compile(r'^\\d{1,3}(,\\d{3})*$') will create this regex, but other regex strings can produce a similar regular expression."
   ]
  },
  {
   "cell_type": "markdown",
   "id": "3925deee-097a-4f4a-8629-095ae27e02fa",
   "metadata": {},
   "source": [
    "21. How would you write a regex that matches the full name of someone whose last name is\n",
    "Watanabe? You can assume that the first name that comes before it will always be one word that\n",
    "begins with a capital letter. The regex must match the following:\n",
    "'Haruto Watanabe'\n",
    "'Alice Watanabe'\n",
    "'RoboCop Watanabe'\n",
    "but not the following:\n",
    "'haruto Watanabe' (where the first name is not capitalized)\n",
    "'Mr. Watanabe' (where the preceding word has a nonletter character)\n",
    "'Watanabe'(which has no first name)\n",
    "'Haruto watanabe' (where Watanabe is not capitalized)\n",
    "\n",
    "-- re.compile(r'[A-Z][a-z]*\\sNakamoto')"
   ]
  },
  {
   "cell_type": "markdown",
   "id": "ca33cd30-ac60-4773-9aa5-07edd96276c4",
   "metadata": {},
   "source": [
    "22. How would you write a regex that matches a sentence where the first word is either Alice, Bob,\n",
    "or Carol; the second word is either eats, pets, or throws; the third word is apples, cats, or baseballs;\n",
    "and the sentence ends with a period? This regex should be case-insensitive. It must match the\n",
    "following:\n",
    "'Alice eats apples'\n",
    "'Bob pets cats'\n",
    "'Carol throws baseballs.'\n",
    "'Alice throws Apples.'\n",
    "'BOB EATS CATS.'\n",
    "but not the following:\n",
    "'RoboCop eats apples'\n",
    "'ALICE THROWS FOOTBALLS'\n",
    "'Carol eats 7 cats.'\n",
    "\n",
    "\n",
    "--re.compile(r'(Alice|Bob|Carol)\\s(eats|pets|throws)\\s(apples|cats|baseballs)\\.', re.IGNORECASE)"
   ]
  },
  {
   "cell_type": "code",
   "execution_count": null,
   "id": "295b62a0-8595-47c6-ab64-444ade1f322f",
   "metadata": {},
   "outputs": [],
   "source": []
  }
 ],
 "metadata": {
  "kernelspec": {
   "display_name": "Python 3 (ipykernel)",
   "language": "python",
   "name": "python3"
  },
  "language_info": {
   "codemirror_mode": {
    "name": "ipython",
    "version": 3
   },
   "file_extension": ".py",
   "mimetype": "text/x-python",
   "name": "python",
   "nbconvert_exporter": "python",
   "pygments_lexer": "ipython3",
   "version": "3.9.12"
  }
 },
 "nbformat": 4,
 "nbformat_minor": 5
}

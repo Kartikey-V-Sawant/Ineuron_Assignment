{
 "cells": [
  {
   "cell_type": "markdown",
   "id": "e60c6af2-6256-4b32-8916-6d5b0313ec3b",
   "metadata": {},
   "source": [
    "# Assignment No 9"
   ]
  },
  {
   "cell_type": "markdown",
   "id": "66c75064-deaf-4117-95de-ab69e17b5549",
   "metadata": {},
   "source": [
    "1. To what does a relative path refer?\n",
    "- a location that is relative to a current directory."
   ]
  },
  {
   "cell_type": "markdown",
   "id": "8748f201-5158-41da-baf9-82ebe916d99c",
   "metadata": {},
   "source": [
    "2. What does an absolute path start with your operating system?\n",
    "- This path will begin at the home directory of your computer and will end with the file or directory that you wish to access."
   ]
  },
  {
   "cell_type": "markdown",
   "id": "7d4defc1-3972-443f-8daa-769e1d402175",
   "metadata": {},
   "source": [
    "3. What do the functions os.getcwd() and os.chdir() do?\n",
    "- os.getcwd() - extract the current working directory\n",
    "- os.chdir()- used to change the current working directory to specified path."
   ]
  },
  {
   "cell_type": "markdown",
   "id": "0c9bd941-be5c-4e60-b528-7b1d79dbd2d1",
   "metadata": {},
   "source": [
    "4. What are the . and .. folders?\n",
    "- . refers current directory\n",
    "- .. refers parent directory"
   ]
  },
  {
   "cell_type": "markdown",
   "id": "515b384f-8342-4e91-977d-7000895fbccb",
   "metadata": {},
   "source": [
    "5. In C:\\bacon\\eggs\\spam.txt, which part is the dir name, and which part is the base name?\n",
    "- C:\\bacon\\eggs - dir name \n",
    "- spam.txt is the base name."
   ]
  },
  {
   "cell_type": "markdown",
   "id": "6a61fccf-8264-4013-ae8a-da8a4ec160ec",
   "metadata": {},
   "source": [
    "6. What are the three “mode” arguments that can be passed to the open() function?\n",
    "- 'r' for read mode\n",
    "- 'w' for write mode\n",
    "- 'a' for append mode"
   ]
  },
  {
   "cell_type": "markdown",
   "id": "30e88a7f-2c5c-4d29-b5f2-7dcc8d080c09",
   "metadata": {},
   "source": [
    "7. What happens if an existing file is opened in write mode?\n",
    "- An existing file opened in write mode is erased and completely overwritten"
   ]
  },
  {
   "cell_type": "markdown",
   "id": "f0d219d2-51d8-4191-841c-8ae79fe6f512",
   "metadata": {},
   "source": [
    "8. How do you tell the difference between read() and readlines()?\n",
    "- read() - returns the file’s entire contents as a single string value. \n",
    "- readlines() - returns a list of strings, where each string is a line from the file’s contents."
   ]
  },
  {
   "cell_type": "markdown",
   "id": "8f0bc1e3-f2e2-428e-868a-f41b1c51c284",
   "metadata": {},
   "source": [
    "9. What data structure does a shelf value resemble?\n",
    "- A shelf value resembles a dictionary value; it has keys and values, along with keys() and values() methods that work similarly to the dictionary methods of the same names."
   ]
  },
  {
   "cell_type": "code",
   "execution_count": null,
   "id": "29311bd4-c5b9-4505-ae1b-788042c87c53",
   "metadata": {},
   "outputs": [],
   "source": []
  }
 ],
 "metadata": {
  "kernelspec": {
   "display_name": "Python 3 (ipykernel)",
   "language": "python",
   "name": "python3"
  },
  "language_info": {
   "codemirror_mode": {
    "name": "ipython",
    "version": 3
   },
   "file_extension": ".py",
   "mimetype": "text/x-python",
   "name": "python",
   "nbconvert_exporter": "python",
   "pygments_lexer": "ipython3",
   "version": "3.9.12"
  }
 },
 "nbformat": 4,
 "nbformat_minor": 5
}
